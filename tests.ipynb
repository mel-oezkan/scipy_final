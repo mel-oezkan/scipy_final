{
    "cells": [
        {
            "cell_type": "code",
            "execution_count": 2,
            "source": [
                "import tensorflow as tf"
            ],
            "outputs": [],
            "metadata": {}
        },
        {
            "cell_type": "code",
            "execution_count": 10,
            "source": [
                "model = tf.keras.Sequential([\n",
                "    tf.keras.layers.InputLayer((110,110,3)),\n",
                "    tf.keras.layers.Conv2D(32, 2, padding=\"same\", activation=\"relu\"),\n",
                "    tf.keras.layers.MaxPool2D(2, 2),\n",
                "    tf.keras.layers.Conv2D(32, 2, padding=\"valid\", activation=\"relu\"),\n",
                "    tf.keras.layers.MaxPool2D(2, 2),\n",
                "    tf.keras.layers.Conv2D(32, 2, padding=\"valid\", activation=\"relu\"),\n",
                "    tf.keras.layers.MaxPool2D(2, 2),\n",
                "    tf.keras.layers.Conv2D(32, 2, padding=\"valid\", activation=\"relu\"),\n",
                "    tf.keras.layers.GlobalAveragePooling2D(),\n",
                "    tf.keras.layers.Dense(2, activation=\"softmax\")    \n",
                "])"
            ],
            "outputs": [],
            "metadata": {}
        },
        {
            "cell_type": "code",
            "execution_count": 11,
            "source": [
                "model.summary()"
            ],
            "outputs": [
                {
                    "output_type": "stream",
                    "name": "stdout",
                    "text": [
                        "Model: \"sequential_4\"\n",
                        "_________________________________________________________________\n",
                        "Layer (type)                 Output Shape              Param #   \n",
                        "=================================================================\n",
                        "conv2d_16 (Conv2D)           (None, 110, 110, 32)      416       \n",
                        "_________________________________________________________________\n",
                        "max_pooling2d_12 (MaxPooling (None, 55, 55, 32)        0         \n",
                        "_________________________________________________________________\n",
                        "conv2d_17 (Conv2D)           (None, 54, 54, 32)        4128      \n",
                        "_________________________________________________________________\n",
                        "max_pooling2d_13 (MaxPooling (None, 27, 27, 32)        0         \n",
                        "_________________________________________________________________\n",
                        "conv2d_18 (Conv2D)           (None, 26, 26, 32)        4128      \n",
                        "_________________________________________________________________\n",
                        "max_pooling2d_14 (MaxPooling (None, 13, 13, 32)        0         \n",
                        "_________________________________________________________________\n",
                        "conv2d_19 (Conv2D)           (None, 12, 12, 32)        4128      \n",
                        "_________________________________________________________________\n",
                        "global_average_pooling2d_4 ( (None, 32)                0         \n",
                        "_________________________________________________________________\n",
                        "dense_4 (Dense)              (None, 2)                 66        \n",
                        "=================================================================\n",
                        "Total params: 12,866\n",
                        "Trainable params: 12,866\n",
                        "Non-trainable params: 0\n",
                        "_________________________________________________________________\n"
                    ]
                }
            ],
            "metadata": {}
        },
        {
            "cell_type": "code",
            "execution_count": null,
            "source": [
                "print(\"Hallo\")"
            ],
            "outputs": [],
            "metadata": {}
        },
        {
            "cell_type": "code",
            "execution_count": 12,
            "source": [
                "model = tf.keras.Sequential()"
            ],
            "outputs": [],
            "metadata": {}
        },
        {
            "cell_type": "code",
            "execution_count": 15,
            "source": [
                "model.add(tf.keras.layers.InputLayer((110,110,3)))\n",
                "model.add(tf.keras.layers.Dense(12))"
            ],
            "outputs": [],
            "metadata": {}
        },
        {
            "cell_type": "code",
            "execution_count": 16,
            "source": [
                "model.summary()"
            ],
            "outputs": [
                {
                    "output_type": "stream",
                    "name": "stdout",
                    "text": [
                        "Model: \"sequential_5\"\n",
                        "_________________________________________________________________\n",
                        "Layer (type)                 Output Shape              Param #   \n",
                        "=================================================================\n",
                        "input_7 (InputLayer)         multiple                  0         \n",
                        "_________________________________________________________________\n",
                        "dense_5 (Dense)              (None, 110, 110, 12)      48        \n",
                        "=================================================================\n",
                        "Total params: 48\n",
                        "Trainable params: 48\n",
                        "Non-trainable params: 0\n",
                        "_________________________________________________________________\n"
                    ]
                }
            ],
            "metadata": {}
        },
        {
            "cell_type": "code",
            "execution_count": 1,
            "source": [
                "from src.scrapper.WebScrapper import Scrapper"
            ],
            "outputs": [],
            "metadata": {}
        },
        {
            "cell_type": "code",
            "execution_count": 3,
            "source": [
                "test_scrapper = Scrapper()\n",
                "test_scrapper.test_run(page_range=[1,2])"
            ],
            "outputs": [
                {
                    "output_type": "stream",
                    "name": "stdout",
                    "text": [
                        "['uz1111', '3', 'XL', 'Replay', 'Gepusht']\n",
                        "1\n",
                        "['illz', '15', 'XL', 'Vintage', 'Gepusht']\n",
                        "1\n",
                        "['martymcfly14700', '3', 'XS', 'Kith', 'Gepusht']\n",
                        "1\n",
                        "['uncle_dan', '18', 'M', 'Vintage', 'Gepusht']\n",
                        "1\n",
                        "['nloew', '21', 'M', '6pm', 'Gepusht']\n",
                        "1\n",
                        "['nloew', '4', 'L', 'Vintage', 'Gepusht']\n",
                        "1\n",
                        "['gianluca6', '7', 'M', 'Neighborhood', 'Gepusht']\n",
                        "1\n",
                        "['paul37249', '2', 'L', 'peso', 'Gepusht']\n",
                        "1\n",
                        "['resell77', '11', 'L', 'peso', 'Gepusht']\n",
                        "1\n",
                        "['luna0608', '0', 'L', 'Mustang', 'Gepusht']\n",
                        "1\n",
                        "['katju99', '11', 'L', 'Pull & Bear', 'Gepusht']\n",
                        "1\n",
                        "['jonas_089', '20', 'L', 'Esprit', 'Gepusht']\n",
                        "1\n",
                        "['play4wy', '4', 'XL', 'Hanes', 'Gepusht']\n",
                        "1\n",
                        "['tinwiekris', '1', 'XL', 'FSBN', 'Gepusht']\n",
                        "1\n",
                        "['felix_l_b', '7', 'XL', 'Travis Scott', 'Gepusht']\n",
                        "1\n",
                        "['julianfriedle', '16', 'L', 'peso', 'Gepusht']\n",
                        "1\n",
                        "['iamlizacole', '24', 'XL', 'Hard Rock Café', 'Gepusht']\n",
                        "1\n",
                        "['lisl1706', '9', 'XL', 'Wood Wood', 'Gepusht']\n",
                        "1\n",
                        "['robinunger1212', '0', 'M', 'Roberto geissini', 'Gepusht']\n",
                        "1\n",
                        "['damian.s98', '10', 'S', 'peso', 'Gepusht']\n",
                        "1\n",
                        "['premiummenswear', '6', 'M', 'Nike', 'Gepusht']\n",
                        "1\n",
                        "['dnny.y', '11', 'L', '', 'Gepusht']\n",
                        "1\n",
                        "['maxpanda', '0', 'S', 'Fred Perry', 'Gepusht']\n",
                        "1\n",
                        "['vvvv22', '2', 'L', 'EVANAxDESIGN', 'Gepusht']\n",
                        "1\n"
                    ]
                }
            ],
            "metadata": {}
        },
        {
            "cell_type": "code",
            "execution_count": 9,
            "source": [
                "from src.scrapper.IdMaps import Mapper\n",
                "\n",
                "def create_conf(args) -> str:\n",
                "    \"\"\" Given the different preferences the function maps those inputs into \n",
                "    their respective string notation and appends them to the url\n",
                "    \n",
                "    args = [\n",
                "        {\"gender\": \"femal\", \"category\": shoes\", \"size\": [36, 37], \"color\": [\"red\", \"green\"], \"brand\": [\"nike\", \"addidas\"]},\n",
                "        {\"gender\": \"male\", \"category\": shoes\", \"size\": [36, 37], \"color\": [\"red\", \"green\"], \"brand\": [\"nike\", \"addidas\"]},\n",
                "        {\"gender\": \"male\", \"category\": pants\", \"size\": [\"M\", \"L\"]}\n",
                "        {\"gender\": \"male\", \"category\": rings\", \"size\": [\"M\", \"L\"]}\n",
                "    ]\n",
                "    \"\"\"\n",
                "\n",
                "    # class will contain value\n",
                "    url = \"example_url.html\"\n",
                "    url = url + \"&\"\n",
                "\n",
                "    arg_dict = {\n",
                "        \"sizes\": [],\n",
                "        \"colors\": [],\n",
                "        \"brands\": [],\n",
                "        \"categories\": [],\n",
                "    }\n",
                "\n",
                "    for arg in args:\n",
                "        temp_conf = Mapper[arg[\"gender\"]]\n",
                "\n",
                "        # check for category\n",
                "        assert isinstance(arg[\"category\"], str), \"\"\"Only accepts single category types, to \n",
                "            include multiple category just append them to the args\"\"\"\n",
                "\n",
                "        # Handling of cases in which args are empty\n",
                "        conf_categories = temp_conf[\"category\"]\n",
                "        # print(conf)\n",
                "        if \"category\" in arg.keys():\n",
                "            category = conf_categories[arg[\"category\"]]\n",
                "            arg_dict[\"categories\"].append(category)        \n",
                "        else:\n",
                "            # take the category for all\n",
                "            category = conf_categories[\"all\"]\n",
                "            arg_dict[\"categories\"].append(category)\n",
                "\n",
                "\n",
                "        if \"size\" in arg.keys():\n",
                "            # print(arg[\"category\"])\n",
                "            size_conf = temp_conf[\"sizes\"][arg[\"category\"]]\n",
                "            print(size_conf)\n",
                "            for size in arg[\"size\"]:\n",
                "                # check if value is a valid key for the dict\n",
                "                if size not in size_conf: \n",
                "                    raise ValueError(f\"Argument {size} is not supported. Either change the sizes or contac the creators via github\")\n",
                "\n",
                "                # add the respective url tokens based on the \n",
                "                # given catergory\n",
                "                print(float(size))\n",
                "                arg_dict[\"sizes\"].append(size_conf[float(size)])\n",
                "        \n",
                "\n",
                "        if \"color\" in arg.keys():\n",
                "            color_conf = Mapper[\"colors\"]\n",
                "            for color in arg[\"color\"]:\n",
                "                # add the respective url tokens based on the \n",
                "                # given catergory\n",
                "                if color not in color_conf: \n",
                "                    raise ValueError(f\"Argument {color} is not supported. Either change the sizes or contac the creators via github\")\n",
                "                    \n",
                "\n",
                "                color_token = color_conf[color]\n",
                "                arg_dict[\"colors\"].append(color_token)\n",
                "\n",
                "        if \"brand\" in arg.keys():\n",
                "            brand_conf = Mapper[\"brands\"]\n",
                "            for brand in arg[\"brand\"]:\n",
                "                # add the respective url tokens based on the \n",
                "                # given catergory\n",
                "                if brand not in brand_conf: \n",
                "                    raise ValueError(f\"Argument {brand} is not supported. Either change the sizes or contac the creators via github\")\n",
                "                    \n",
                "                brand_token = brand_conf[brand]\n",
                "                arg_dict[\"brands\"].append(brand_token)\n",
                "\n",
                "    for key in arg_dict.keys():\n",
                "        for token in set(arg_dict[key]):\n",
                "            url += str(token) + \"&\"\n",
                "\n",
                "    return url, arg_dict\n",
                "\n",
                "\n",
                "    "
            ],
            "outputs": [],
            "metadata": {}
        },
        {
            "cell_type": "code",
            "execution_count": 10,
            "source": [
                "args = [\n",
                "    {\"gender\": \"female\", \"category\": \"shoes\", \"size\": [36, 37], \"color\": [\"red\", \"green\"], \"brand\": [\"nike\", \"addidas\"]},\n",
                "    {\"gender\": \"male\", \"category\": \"shoes\", \"size\": [38, 39], \"color\": [\"red\", \"green\"], \"brand\": [\"nike\", \"addidas\"]},\n",
                "    # {\"gender\": \"male\", \"category\": \"pants\", \"size\": [\"M\", \"L\"]},\n",
                "    # {\"gender\": \"male\", \"category\": \"rings\", \"size\": [\"M\", \"L\"]}\n",
                "]\n",
                "\n",
                "create_conf(args)"
            ],
            "outputs": [
                {
                    "output_type": "stream",
                    "name": "stdout",
                    "text": [
                        "{35.0: 'size_id[]=55', 35.5: 'size_id[]=1195', 36.0: 'size_id[]=56', 36.5: 'size_id[]=1196', 37.0: 'size_id[]=57', 37.5: 'size_id[]=1197', 38.0: 'size_id[]=58', 38.5: 'size_id[]=1198', 39.0: 'size_id[]=59', 39.5: 'size_id[]=1199', 40.0: 'size_id[]=60', 40.5: 'size_id[]=1200', 41.0: 'size_id[]=61', 41.5: 'size_id[]=1201', 42.0: 'size_id[]=62', 43.0: 'size_id[]=63'}\n",
                        "36.0\n",
                        "37.0\n",
                        "{38.0: 'size_id[]=776', 39.0: 'size_id[]=778', 40.0: 'size_id[]=780', 41.0: 'size_id[]=782', 42.0: 'size_id[]=784', 42.5: 'size_id[]=785', 43.0: 'size_id[]=787', 43.5: 'size_id[]=788', 44.0: 'size_id[]=790', 44.5: 'size_id[]=791', 45.0: 'size_id[]=792', 46.0: 'size_id[]=793', 47.0: 'size_id[]=794'}\n",
                        "38.0\n",
                        "39.0\n"
                    ]
                },
                {
                    "output_type": "execute_result",
                    "data": {
                        "text/plain": [
                            "('example_url.html&size_id[]=57&size_id[]=776&size_id[]=56&size_id[]=778&None&color_id[]=187&None&None&test&',\n",
                            " {'sizes': ['size_id[]=56', 'size_id[]=57', 'size_id[]=776', 'size_id[]=778'],\n",
                            "  'colors': ['color_id[]=187', None, 'color_id[]=187', None],\n",
                            "  'brands': [None, None, None, None],\n",
                            "  'categories': [None, 'test']})"
                        ]
                    },
                    "metadata": {},
                    "execution_count": 10
                }
            ],
            "metadata": {}
        },
        {
            "cell_type": "code",
            "execution_count": 6,
            "source": [
                "print(Mapper[\"female\"][\"sizes\"][\"shoes\"][float(int(36))])"
            ],
            "outputs": [
                {
                    "output_type": "stream",
                    "name": "stdout",
                    "text": [
                        "size_id[]=56\n"
                    ]
                }
            ],
            "metadata": {}
        },
        {
            "cell_type": "code",
            "execution_count": 1,
            "source": [
                "import pandas as pd\n",
                "import numpy as np\n",
                "import matplotlib.pyplot as plt\n",
                "#data = pd.read_csv(\"data/full_data.csv\")"
            ],
            "outputs": [],
            "metadata": {}
        },
        {
            "cell_type": "code",
            "execution_count": 59,
            "source": [
                "data = pd.read_csv(\"data/full_data.csv\", names=[\"user\", \"likes\", \"size\", \"brand\", \"price\", \"art-link\", \"user-link\"])\n",
                "data.head()"
            ],
            "outputs": [
                {
                    "output_type": "execute_result",
                    "data": {
                        "text/plain": [
                            "              user  likes size    brand    price  \\\n",
                            "0           uz1111      3   XL   Replay   8,00 €   \n",
                            "1             illz     15   XL  Vintage  35,00 €   \n",
                            "2  martymcfly14700      3   XS     Kith  79,00 €   \n",
                            "3        uncle_dan     18    M  Vintage  35,00 €   \n",
                            "4            nloew     21    M      6pm  60,00 €   \n",
                            "\n",
                            "                                            art-link  \\\n",
                            "0  https://www.vinted.de/herren/kleidung/tops-and...   \n",
                            "1  https://www.vinted.de/herren/kleidung/tops-and...   \n",
                            "2  https://www.vinted.de/herren/kleidung/tops-and...   \n",
                            "3  https://www.vinted.de/herren/kleidung/tops-and...   \n",
                            "4  https://www.vinted.de/herren/kleidung/tops-and...   \n",
                            "\n",
                            "                                           user-link  \n",
                            "0       https://www.vinted.de/member/65706702-uz1111  \n",
                            "1         https://www.vinted.de/member/43707297-illz  \n",
                            "2  https://www.vinted.de/member/43844982-martymcf...  \n",
                            "3     https://www.vinted.de/member/65661162-uncledan  \n",
                            "4        https://www.vinted.de/member/43787172-nloew  "
                        ],
                        "text/html": [
                            "<div>\n",
                            "<style scoped>\n",
                            "    .dataframe tbody tr th:only-of-type {\n",
                            "        vertical-align: middle;\n",
                            "    }\n",
                            "\n",
                            "    .dataframe tbody tr th {\n",
                            "        vertical-align: top;\n",
                            "    }\n",
                            "\n",
                            "    .dataframe thead th {\n",
                            "        text-align: right;\n",
                            "    }\n",
                            "</style>\n",
                            "<table border=\"1\" class=\"dataframe\">\n",
                            "  <thead>\n",
                            "    <tr style=\"text-align: right;\">\n",
                            "      <th></th>\n",
                            "      <th>user</th>\n",
                            "      <th>likes</th>\n",
                            "      <th>size</th>\n",
                            "      <th>brand</th>\n",
                            "      <th>price</th>\n",
                            "      <th>art-link</th>\n",
                            "      <th>user-link</th>\n",
                            "    </tr>\n",
                            "  </thead>\n",
                            "  <tbody>\n",
                            "    <tr>\n",
                            "      <th>0</th>\n",
                            "      <td>uz1111</td>\n",
                            "      <td>3</td>\n",
                            "      <td>XL</td>\n",
                            "      <td>Replay</td>\n",
                            "      <td>8,00 €</td>\n",
                            "      <td>https://www.vinted.de/herren/kleidung/tops-and...</td>\n",
                            "      <td>https://www.vinted.de/member/65706702-uz1111</td>\n",
                            "    </tr>\n",
                            "    <tr>\n",
                            "      <th>1</th>\n",
                            "      <td>illz</td>\n",
                            "      <td>15</td>\n",
                            "      <td>XL</td>\n",
                            "      <td>Vintage</td>\n",
                            "      <td>35,00 €</td>\n",
                            "      <td>https://www.vinted.de/herren/kleidung/tops-and...</td>\n",
                            "      <td>https://www.vinted.de/member/43707297-illz</td>\n",
                            "    </tr>\n",
                            "    <tr>\n",
                            "      <th>2</th>\n",
                            "      <td>martymcfly14700</td>\n",
                            "      <td>3</td>\n",
                            "      <td>XS</td>\n",
                            "      <td>Kith</td>\n",
                            "      <td>79,00 €</td>\n",
                            "      <td>https://www.vinted.de/herren/kleidung/tops-and...</td>\n",
                            "      <td>https://www.vinted.de/member/43844982-martymcf...</td>\n",
                            "    </tr>\n",
                            "    <tr>\n",
                            "      <th>3</th>\n",
                            "      <td>uncle_dan</td>\n",
                            "      <td>18</td>\n",
                            "      <td>M</td>\n",
                            "      <td>Vintage</td>\n",
                            "      <td>35,00 €</td>\n",
                            "      <td>https://www.vinted.de/herren/kleidung/tops-and...</td>\n",
                            "      <td>https://www.vinted.de/member/65661162-uncledan</td>\n",
                            "    </tr>\n",
                            "    <tr>\n",
                            "      <th>4</th>\n",
                            "      <td>nloew</td>\n",
                            "      <td>21</td>\n",
                            "      <td>M</td>\n",
                            "      <td>6pm</td>\n",
                            "      <td>60,00 €</td>\n",
                            "      <td>https://www.vinted.de/herren/kleidung/tops-and...</td>\n",
                            "      <td>https://www.vinted.de/member/43787172-nloew</td>\n",
                            "    </tr>\n",
                            "  </tbody>\n",
                            "</table>\n",
                            "</div>"
                        ]
                    },
                    "metadata": {},
                    "execution_count": 59
                }
            ],
            "metadata": {}
        },
        {
            "cell_type": "code",
            "execution_count": 2,
            "source": [
                "from src.scrapper.WebScrapper import Scrapper\n",
                "\n",
                "def show_samples(path=\"data/full_data.csv\"):\n",
                "    # read the data\n",
                "    data = pd.read_csv(path, names=[\"user\", \"likes\", \"size\", \"brand\", \"price\", \"art-link\", \"user-link\"])\n",
                "    scrapper = Scrapper()\n",
                "    \n",
                "    # create 4 random indices to plot from\n",
                "    random = False\n",
                "    while not(random):\n",
                "        rand_idx = np.random.randint(0, len(data), size=4)\n",
                "        if np.unique(rand_idx).size == 4:\n",
                "            random = True\n",
                "    \n",
                "    plt.figure(figsize=(12,10))\n",
                "    for n, index in enumerate(rand_idx):\n",
                "        row_dict = data.iloc[index]\n",
                "        print(row_dict)\n",
                "        images = scrapper.article_images(row_dict[\"art-link\"])\n",
                "        \n",
                "        plt.subplot(1,4,n+1)\n",
                "        plt.imshow(images[0])\n",
                "\n",
                "        \n",
                "show_samples()\n",
                "\n",
                "\n"
            ],
            "outputs": [
                {
                    "output_type": "stream",
                    "name": "stdout",
                    "text": [
                        "/home/melih/Documents/Uni/s4/SciPy/scipy_final\n",
                        "user                                                 gianluca6\n",
                        "likes                                                        7\n",
                        "size                                                         M\n",
                        "brand                                             Neighborhood\n",
                        "price                                                  40,00 €\n",
                        "art-link     https://www.vinted.de/herren/kleidung/tops-and...\n",
                        "user-link      https://www.vinted.de/member/65688012-gianluca6\n",
                        "Name: 6, dtype: object\n"
                    ]
                },
                {
                    "output_type": "error",
                    "ename": "NoSuchElementException",
                    "evalue": "Message: no such element: Unable to locate element: {\"method\":\"css selector\",\"selector\":\".item-photos\"}\n  (Session info: headless chrome=92.0.4515.131)\n",
                    "traceback": [
                        "\u001b[0;31m---------------------------------------------------------------------------\u001b[0m",
                        "\u001b[0;31mNoSuchElementException\u001b[0m                    Traceback (most recent call last)",
                        "\u001b[0;32m<ipython-input-2-e008ce27c820>\u001b[0m in \u001b[0;36m<module>\u001b[0;34m\u001b[0m\n\u001b[1;32m     23\u001b[0m \u001b[0;34m\u001b[0m\u001b[0m\n\u001b[1;32m     24\u001b[0m \u001b[0;34m\u001b[0m\u001b[0m\n\u001b[0;32m---> 25\u001b[0;31m \u001b[0mshow_samples\u001b[0m\u001b[0;34m(\u001b[0m\u001b[0;34m)\u001b[0m\u001b[0;34m\u001b[0m\u001b[0;34m\u001b[0m\u001b[0m\n\u001b[0m\u001b[1;32m     26\u001b[0m \u001b[0;34m\u001b[0m\u001b[0m\n\u001b[1;32m     27\u001b[0m \u001b[0;34m\u001b[0m\u001b[0m\n",
                        "\u001b[0;32m<ipython-input-2-e008ce27c820>\u001b[0m in \u001b[0;36mshow_samples\u001b[0;34m(path)\u001b[0m\n\u001b[1;32m     17\u001b[0m         \u001b[0mrow_dict\u001b[0m \u001b[0;34m=\u001b[0m \u001b[0mdata\u001b[0m\u001b[0;34m.\u001b[0m\u001b[0miloc\u001b[0m\u001b[0;34m[\u001b[0m\u001b[0mindex\u001b[0m\u001b[0;34m]\u001b[0m\u001b[0;34m\u001b[0m\u001b[0;34m\u001b[0m\u001b[0m\n\u001b[1;32m     18\u001b[0m         \u001b[0mprint\u001b[0m\u001b[0;34m(\u001b[0m\u001b[0mrow_dict\u001b[0m\u001b[0;34m)\u001b[0m\u001b[0;34m\u001b[0m\u001b[0;34m\u001b[0m\u001b[0m\n\u001b[0;32m---> 19\u001b[0;31m         \u001b[0mimages\u001b[0m \u001b[0;34m=\u001b[0m \u001b[0mscrapper\u001b[0m\u001b[0;34m.\u001b[0m\u001b[0marticle_images\u001b[0m\u001b[0;34m(\u001b[0m\u001b[0mrow_dict\u001b[0m\u001b[0;34m[\u001b[0m\u001b[0;34m\"art-link\"\u001b[0m\u001b[0;34m]\u001b[0m\u001b[0;34m)\u001b[0m\u001b[0;34m\u001b[0m\u001b[0;34m\u001b[0m\u001b[0m\n\u001b[0m\u001b[1;32m     20\u001b[0m \u001b[0;34m\u001b[0m\u001b[0m\n\u001b[1;32m     21\u001b[0m         \u001b[0mplt\u001b[0m\u001b[0;34m.\u001b[0m\u001b[0msubplot\u001b[0m\u001b[0;34m(\u001b[0m\u001b[0;36m1\u001b[0m\u001b[0;34m,\u001b[0m\u001b[0;36m4\u001b[0m\u001b[0;34m,\u001b[0m\u001b[0mn\u001b[0m\u001b[0;34m+\u001b[0m\u001b[0;36m1\u001b[0m\u001b[0;34m)\u001b[0m\u001b[0;34m\u001b[0m\u001b[0;34m\u001b[0m\u001b[0m\n",
                        "\u001b[0;32m~/Documents/Uni/s4/SciPy/scipy_final/src/scrapper/WebScrapper.py\u001b[0m in \u001b[0;36marticle_images\u001b[0;34m(self, art_url, savepath)\u001b[0m\n\u001b[1;32m    169\u001b[0m         \u001b[0mself\u001b[0m\u001b[0;34m.\u001b[0m\u001b[0mdriver\u001b[0m\u001b[0;34m.\u001b[0m\u001b[0mget\u001b[0m\u001b[0;34m(\u001b[0m\u001b[0mart_url\u001b[0m\u001b[0;34m)\u001b[0m\u001b[0;34m\u001b[0m\u001b[0;34m\u001b[0m\u001b[0m\n\u001b[1;32m    170\u001b[0m \u001b[0;34m\u001b[0m\u001b[0m\n\u001b[0;32m--> 171\u001b[0;31m         \u001b[0mimage_container\u001b[0m \u001b[0;34m=\u001b[0m \u001b[0mself\u001b[0m\u001b[0;34m.\u001b[0m\u001b[0mdriver\u001b[0m\u001b[0;34m.\u001b[0m\u001b[0mfind_element_by_class_name\u001b[0m\u001b[0;34m(\u001b[0m\u001b[0;34m\"item-photos\"\u001b[0m\u001b[0;34m)\u001b[0m\u001b[0;34m\u001b[0m\u001b[0;34m\u001b[0m\u001b[0m\n\u001b[0m\u001b[1;32m    172\u001b[0m         \u001b[0mimages\u001b[0m \u001b[0;34m=\u001b[0m \u001b[0mimage_container\u001b[0m\u001b[0;34m.\u001b[0m\u001b[0mfind_elements_by_tag_name\u001b[0m\u001b[0;34m(\u001b[0m\u001b[0;34m\"a\"\u001b[0m\u001b[0;34m)\u001b[0m\u001b[0;34m\u001b[0m\u001b[0;34m\u001b[0m\u001b[0m\n\u001b[1;32m    173\u001b[0m \u001b[0;34m\u001b[0m\u001b[0m\n",
                        "\u001b[0;32m~/anaconda3/envs/scrapper/lib/python3.9/site-packages/selenium/webdriver/remote/webdriver.py\u001b[0m in \u001b[0;36mfind_element_by_class_name\u001b[0;34m(self, name)\u001b[0m\n\u001b[1;32m    562\u001b[0m             \u001b[0melement\u001b[0m \u001b[0;34m=\u001b[0m \u001b[0mdriver\u001b[0m\u001b[0;34m.\u001b[0m\u001b[0mfind_element_by_class_name\u001b[0m\u001b[0;34m(\u001b[0m\u001b[0;34m'foo'\u001b[0m\u001b[0;34m)\u001b[0m\u001b[0;34m\u001b[0m\u001b[0;34m\u001b[0m\u001b[0m\n\u001b[1;32m    563\u001b[0m         \"\"\"\n\u001b[0;32m--> 564\u001b[0;31m         \u001b[0;32mreturn\u001b[0m \u001b[0mself\u001b[0m\u001b[0;34m.\u001b[0m\u001b[0mfind_element\u001b[0m\u001b[0;34m(\u001b[0m\u001b[0mby\u001b[0m\u001b[0;34m=\u001b[0m\u001b[0mBy\u001b[0m\u001b[0;34m.\u001b[0m\u001b[0mCLASS_NAME\u001b[0m\u001b[0;34m,\u001b[0m \u001b[0mvalue\u001b[0m\u001b[0;34m=\u001b[0m\u001b[0mname\u001b[0m\u001b[0;34m)\u001b[0m\u001b[0;34m\u001b[0m\u001b[0;34m\u001b[0m\u001b[0m\n\u001b[0m\u001b[1;32m    565\u001b[0m \u001b[0;34m\u001b[0m\u001b[0m\n\u001b[1;32m    566\u001b[0m     \u001b[0;32mdef\u001b[0m \u001b[0mfind_elements_by_class_name\u001b[0m\u001b[0;34m(\u001b[0m\u001b[0mself\u001b[0m\u001b[0;34m,\u001b[0m \u001b[0mname\u001b[0m\u001b[0;34m)\u001b[0m\u001b[0;34m:\u001b[0m\u001b[0;34m\u001b[0m\u001b[0;34m\u001b[0m\u001b[0m\n",
                        "\u001b[0;32m~/anaconda3/envs/scrapper/lib/python3.9/site-packages/selenium/webdriver/remote/webdriver.py\u001b[0m in \u001b[0;36mfind_element\u001b[0;34m(self, by, value)\u001b[0m\n\u001b[1;32m    974\u001b[0m                 \u001b[0mby\u001b[0m \u001b[0;34m=\u001b[0m \u001b[0mBy\u001b[0m\u001b[0;34m.\u001b[0m\u001b[0mCSS_SELECTOR\u001b[0m\u001b[0;34m\u001b[0m\u001b[0;34m\u001b[0m\u001b[0m\n\u001b[1;32m    975\u001b[0m                 \u001b[0mvalue\u001b[0m \u001b[0;34m=\u001b[0m \u001b[0;34m'[name=\"%s\"]'\u001b[0m \u001b[0;34m%\u001b[0m \u001b[0mvalue\u001b[0m\u001b[0;34m\u001b[0m\u001b[0;34m\u001b[0m\u001b[0m\n\u001b[0;32m--> 976\u001b[0;31m         return self.execute(Command.FIND_ELEMENT, {\n\u001b[0m\u001b[1;32m    977\u001b[0m             \u001b[0;34m'using'\u001b[0m\u001b[0;34m:\u001b[0m \u001b[0mby\u001b[0m\u001b[0;34m,\u001b[0m\u001b[0;34m\u001b[0m\u001b[0;34m\u001b[0m\u001b[0m\n\u001b[1;32m    978\u001b[0m             'value': value})['value']\n",
                        "\u001b[0;32m~/anaconda3/envs/scrapper/lib/python3.9/site-packages/selenium/webdriver/remote/webdriver.py\u001b[0m in \u001b[0;36mexecute\u001b[0;34m(self, driver_command, params)\u001b[0m\n\u001b[1;32m    319\u001b[0m         \u001b[0mresponse\u001b[0m \u001b[0;34m=\u001b[0m \u001b[0mself\u001b[0m\u001b[0;34m.\u001b[0m\u001b[0mcommand_executor\u001b[0m\u001b[0;34m.\u001b[0m\u001b[0mexecute\u001b[0m\u001b[0;34m(\u001b[0m\u001b[0mdriver_command\u001b[0m\u001b[0;34m,\u001b[0m \u001b[0mparams\u001b[0m\u001b[0;34m)\u001b[0m\u001b[0;34m\u001b[0m\u001b[0;34m\u001b[0m\u001b[0m\n\u001b[1;32m    320\u001b[0m         \u001b[0;32mif\u001b[0m \u001b[0mresponse\u001b[0m\u001b[0;34m:\u001b[0m\u001b[0;34m\u001b[0m\u001b[0;34m\u001b[0m\u001b[0m\n\u001b[0;32m--> 321\u001b[0;31m             \u001b[0mself\u001b[0m\u001b[0;34m.\u001b[0m\u001b[0merror_handler\u001b[0m\u001b[0;34m.\u001b[0m\u001b[0mcheck_response\u001b[0m\u001b[0;34m(\u001b[0m\u001b[0mresponse\u001b[0m\u001b[0;34m)\u001b[0m\u001b[0;34m\u001b[0m\u001b[0;34m\u001b[0m\u001b[0m\n\u001b[0m\u001b[1;32m    322\u001b[0m             response['value'] = self._unwrap_value(\n\u001b[1;32m    323\u001b[0m                 response.get('value', None))\n",
                        "\u001b[0;32m~/anaconda3/envs/scrapper/lib/python3.9/site-packages/selenium/webdriver/remote/errorhandler.py\u001b[0m in \u001b[0;36mcheck_response\u001b[0;34m(self, response)\u001b[0m\n\u001b[1;32m    240\u001b[0m                 \u001b[0malert_text\u001b[0m \u001b[0;34m=\u001b[0m \u001b[0mvalue\u001b[0m\u001b[0;34m[\u001b[0m\u001b[0;34m'alert'\u001b[0m\u001b[0;34m]\u001b[0m\u001b[0;34m.\u001b[0m\u001b[0mget\u001b[0m\u001b[0;34m(\u001b[0m\u001b[0;34m'text'\u001b[0m\u001b[0;34m)\u001b[0m\u001b[0;34m\u001b[0m\u001b[0;34m\u001b[0m\u001b[0m\n\u001b[1;32m    241\u001b[0m             \u001b[0;32mraise\u001b[0m \u001b[0mexception_class\u001b[0m\u001b[0;34m(\u001b[0m\u001b[0mmessage\u001b[0m\u001b[0;34m,\u001b[0m \u001b[0mscreen\u001b[0m\u001b[0;34m,\u001b[0m \u001b[0mstacktrace\u001b[0m\u001b[0;34m,\u001b[0m \u001b[0malert_text\u001b[0m\u001b[0;34m)\u001b[0m\u001b[0;34m\u001b[0m\u001b[0;34m\u001b[0m\u001b[0m\n\u001b[0;32m--> 242\u001b[0;31m         \u001b[0;32mraise\u001b[0m \u001b[0mexception_class\u001b[0m\u001b[0;34m(\u001b[0m\u001b[0mmessage\u001b[0m\u001b[0;34m,\u001b[0m \u001b[0mscreen\u001b[0m\u001b[0;34m,\u001b[0m \u001b[0mstacktrace\u001b[0m\u001b[0;34m)\u001b[0m\u001b[0;34m\u001b[0m\u001b[0;34m\u001b[0m\u001b[0m\n\u001b[0m\u001b[1;32m    243\u001b[0m \u001b[0;34m\u001b[0m\u001b[0m\n\u001b[1;32m    244\u001b[0m     \u001b[0;32mdef\u001b[0m \u001b[0m_value_or_default\u001b[0m\u001b[0;34m(\u001b[0m\u001b[0mself\u001b[0m\u001b[0;34m,\u001b[0m \u001b[0mobj\u001b[0m\u001b[0;34m,\u001b[0m \u001b[0mkey\u001b[0m\u001b[0;34m,\u001b[0m \u001b[0mdefault\u001b[0m\u001b[0;34m)\u001b[0m\u001b[0;34m:\u001b[0m\u001b[0;34m\u001b[0m\u001b[0;34m\u001b[0m\u001b[0m\n",
                        "\u001b[0;31mNoSuchElementException\u001b[0m: Message: no such element: Unable to locate element: {\"method\":\"css selector\",\"selector\":\".item-photos\"}\n  (Session info: headless chrome=92.0.4515.131)\n"
                    ]
                },
                {
                    "output_type": "display_data",
                    "data": {
                        "text/plain": [
                            "<Figure size 864x720 with 0 Axes>"
                        ]
                    },
                    "metadata": {}
                }
            ],
            "metadata": {}
        },
        {
            "cell_type": "code",
            "execution_count": 62,
            "source": [
                "data.iloc[1][\"art-link\"]"
            ],
            "outputs": [
                {
                    "output_type": "execute_result",
                    "data": {
                        "text/plain": [
                            "'https://www.vinted.de/herren/kleidung/tops-and-t-shirts/t-shirts/bedruckte-t-shirts/1234286974-vintage-hard-rock-cafe-t-shirt-size-xl-san-francisco'"
                        ]
                    },
                    "metadata": {},
                    "execution_count": 62
                }
            ],
            "metadata": {}
        },
        {
            "cell_type": "code",
            "execution_count": null,
            "source": [],
            "outputs": [],
            "metadata": {}
        }
    ],
    "metadata": {
        "orig_nbformat": 4,
        "language_info": {
            "name": "python",
            "version": "3.9.5",
            "mimetype": "text/x-python",
            "codemirror_mode": {
                "name": "ipython",
                "version": 3
            },
            "pygments_lexer": "ipython3",
            "nbconvert_exporter": "python",
            "file_extension": ".py"
        },
        "kernelspec": {
            "name": "python3",
            "display_name": "Python 3.9.5 64-bit ('scrapper': conda)"
        },
        "interpreter": {
            "hash": "93a2b3115bd34c81c7509de73ca04e82936afd4894b4766f00f91636c4159658"
        }
    },
    "nbformat": 4,
    "nbformat_minor": 2
}