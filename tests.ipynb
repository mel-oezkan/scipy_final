{
    "cells": [
        {
            "cell_type": "code",
            "execution_count": 2,
            "source": [
                "import tensorflow as tf"
            ],
            "outputs": [],
            "metadata": {}
        },
        {
            "cell_type": "code",
            "execution_count": 10,
            "source": [
                "model = tf.keras.Sequential([\n",
                "    tf.keras.layers.InputLayer((110,110,3)),\n",
                "    tf.keras.layers.Conv2D(32, 2, padding=\"same\", activation=\"relu\"),\n",
                "    tf.keras.layers.MaxPool2D(2, 2),\n",
                "    tf.keras.layers.Conv2D(32, 2, padding=\"valid\", activation=\"relu\"),\n",
                "    tf.keras.layers.MaxPool2D(2, 2),\n",
                "    tf.keras.layers.Conv2D(32, 2, padding=\"valid\", activation=\"relu\"),\n",
                "    tf.keras.layers.MaxPool2D(2, 2),\n",
                "    tf.keras.layers.Conv2D(32, 2, padding=\"valid\", activation=\"relu\"),\n",
                "    tf.keras.layers.GlobalAveragePooling2D(),\n",
                "    tf.keras.layers.Dense(2, activation=\"softmax\")    \n",
                "])"
            ],
            "outputs": [],
            "metadata": {}
        },
        {
            "cell_type": "code",
            "execution_count": 11,
            "source": [
                "model.summary()"
            ],
            "outputs": [
                {
                    "output_type": "stream",
                    "name": "stdout",
                    "text": [
                        "Model: \"sequential_4\"\n",
                        "_________________________________________________________________\n",
                        "Layer (type)                 Output Shape              Param #   \n",
                        "=================================================================\n",
                        "conv2d_16 (Conv2D)           (None, 110, 110, 32)      416       \n",
                        "_________________________________________________________________\n",
                        "max_pooling2d_12 (MaxPooling (None, 55, 55, 32)        0         \n",
                        "_________________________________________________________________\n",
                        "conv2d_17 (Conv2D)           (None, 54, 54, 32)        4128      \n",
                        "_________________________________________________________________\n",
                        "max_pooling2d_13 (MaxPooling (None, 27, 27, 32)        0         \n",
                        "_________________________________________________________________\n",
                        "conv2d_18 (Conv2D)           (None, 26, 26, 32)        4128      \n",
                        "_________________________________________________________________\n",
                        "max_pooling2d_14 (MaxPooling (None, 13, 13, 32)        0         \n",
                        "_________________________________________________________________\n",
                        "conv2d_19 (Conv2D)           (None, 12, 12, 32)        4128      \n",
                        "_________________________________________________________________\n",
                        "global_average_pooling2d_4 ( (None, 32)                0         \n",
                        "_________________________________________________________________\n",
                        "dense_4 (Dense)              (None, 2)                 66        \n",
                        "=================================================================\n",
                        "Total params: 12,866\n",
                        "Trainable params: 12,866\n",
                        "Non-trainable params: 0\n",
                        "_________________________________________________________________\n"
                    ]
                }
            ],
            "metadata": {}
        },
        {
            "cell_type": "code",
            "execution_count": null,
            "source": [
                "print(\"Hallo\")"
            ],
            "outputs": [],
            "metadata": {}
        },
        {
            "cell_type": "code",
            "execution_count": null,
            "source": [],
            "outputs": [],
            "metadata": {}
        },
        {
            "cell_type": "code",
            "execution_count": 12,
            "source": [
                "model = tf.keras.Sequential()"
            ],
            "outputs": [],
            "metadata": {}
        },
        {
            "cell_type": "code",
            "execution_count": 15,
            "source": [
                "model.add(tf.keras.layers.InputLayer((110,110,3)))\n",
                "model.add(tf.keras.layers.Dense(12))"
            ],
            "outputs": [],
            "metadata": {}
        },
        {
            "cell_type": "code",
            "execution_count": 16,
            "source": [
                "model.summary()"
            ],
            "outputs": [
                {
                    "output_type": "stream",
                    "name": "stdout",
                    "text": [
                        "Model: \"sequential_5\"\n",
                        "_________________________________________________________________\n",
                        "Layer (type)                 Output Shape              Param #   \n",
                        "=================================================================\n",
                        "input_7 (InputLayer)         multiple                  0         \n",
                        "_________________________________________________________________\n",
                        "dense_5 (Dense)              (None, 110, 110, 12)      48        \n",
                        "=================================================================\n",
                        "Total params: 48\n",
                        "Trainable params: 48\n",
                        "Non-trainable params: 0\n",
                        "_________________________________________________________________\n"
                    ]
                }
            ],
            "metadata": {}
        },
        {
            "cell_type": "code",
            "execution_count": 1,
            "source": [
                "from src.scrapper.WebScrapper import Scrapper\n",
                "\n",
                "test_scrapper = Scrapper()\n",
                "# test_scrapper.run(\"config.yaml\", num_pages=3)\n",
                "test_scrapper.search_user(\"mel.zkn\")"
            ],
            "outputs": [
                {
                    "output_type": "stream",
                    "name": "stdout",
                    "text": [
                        "/home/melih/Documents/Uni/s4/SciPy/scipy_final\n",
                        "['meljess88', '22', '37', 'Adidas', 'Gepusht']\n",
                        "1\n",
                        "['samira-seifriz', '37', '36', 'Nike', 'Gepusht']\n",
                        "1\n",
                        "['sebastians-12', '14', '42', 'Nike', 'Gepusht']\n",
                        "1\n",
                        "['snupmueller', '10', '42', 'Nike', 'Gepusht']\n",
                        "1\n",
                        "['scherzinger', '2', '42', 'Nike', 'Gepusht']\n",
                        "1\n",
                        "['elly.s', '6', '36', 'Adidas', 'Gepusht']\n",
                        "1\n",
                        "['rthshbn', '1', '42', 'Nike', 'Gepusht']\n",
                        "1\n",
                        "['tr2011', '1', '42', 'Adidas', 'Gepusht']\n",
                        "1\n",
                        "['nataliwolf28', '38', '37', 'Adidas', 'Gepusht']\n",
                        "1\n",
                        "['03suesse03', '11', '36', 'Nike', 'Gepusht']\n",
                        "1\n",
                        "['ypsi2511', '0', '37', 'Adidas']\n",
                        "1\n",
                        "['kerstiin18', '0', '36', 'Adidas']\n",
                        "1\n",
                        "['necks711', '0', '36', 'Nike']\n",
                        "1\n",
                        "['lili.fern', '0', '42', 'Nike']\n",
                        "1\n",
                        "['anetta_02', '1', '42', 'Nike']\n",
                        "1\n",
                        "['bedstuy689_03', '1', '36', 'Nike']\n",
                        "1\n",
                        "['viviana2308xx', '1', '37', 'Adidas']\n",
                        "1\n",
                        "['naimne', '0', '42', 'Nike']\n",
                        "1\n",
                        "['belloo27', '2', '36', 'Adidas']\n",
                        "1\n",
                        "['james6060', '0', '43.5', 'Adidas']\n",
                        "1\n",
                        "['anniiiika2004', '0', '42', 'Nike']\n",
                        "1\n",
                        "['dany1311', '0', '37', 'Nike']\n",
                        "1\n",
                        "['neda_la', '2', '36', 'Nike']\n",
                        "1\n",
                        "['hd1985', '0', '42', 'Nike']\n",
                        "1\n",
                        "['vkb35582', '0', '42', 'Nike']\n",
                        "1\n",
                        "['suicidesilence16', '0', '43.5', 'Adidas']\n",
                        "1\n",
                        "['mammaebimby', '0', '42', 'Adidas']\n",
                        "1\n",
                        "['vani012012', '3', '36', 'Adidas']\n",
                        "1\n",
                        "['liliputaner', '0', '37', 'Nike']\n",
                        "1\n",
                        "['leonardkretzschmar', '0', '42', 'Adidas']\n",
                        "1\n",
                        "['julsiem', '5', '42', 'Nike']\n",
                        "1\n",
                        "['ebersberg321', '3', '42', 'Nike']\n",
                        "1\n",
                        "['nicolel93', '1', '42', 'Nike']\n",
                        "1\n",
                        "['struppi77', '1', '43.5', 'Adidas']\n",
                        "1\n",
                        "['miminicki', '0', '42', 'Adidas']\n",
                        "1\n",
                        "['kiki_bndr', '0', '36', 'Nike']\n",
                        "1\n",
                        "['florian19851903', '2', '36', 'Adidas']\n",
                        "1\n",
                        "['maxiflorian', '3', '42', 'Nike']\n",
                        "1\n",
                        "['wiebi-rise', '0', '42', 'Nike']\n",
                        "1\n",
                        "['andre.777', '0', '42', 'Nike']\n",
                        "1\n",
                        "['1larslars', '2', '42', 'Nike']\n",
                        "1\n",
                        "['miri.sada', '1', '42', 'Adidas']\n",
                        "1\n",
                        "['alexandrarusu1', '23', '36', 'Nike']\n",
                        "1\n",
                        "['ayse130679', '0', '42', 'Nike']\n",
                        "1\n",
                        "['flippi1998pw', '1', '43.5', 'Adidas']\n",
                        "1\n",
                        "['s04ruhrpott', '4', '42', 'Nike']\n",
                        "1\n",
                        "['janahavi', '3', '36', 'Adidas']\n",
                        "1\n",
                        "['fire1504', '1', '37', 'Adidas']\n",
                        "1\n",
                        "['rale28', '0', '42', 'Nike']\n",
                        "1\n",
                        "['ro193', '8', '42', 'Nike']\n",
                        "1\n",
                        "['danielsiracha', '0', '42', 'Nike']\n",
                        "1\n",
                        "['tracy20.12', '1', '42', 'Adidas']\n",
                        "1\n",
                        "['max_96', '0', '42', 'Adidas']\n",
                        "1\n",
                        "['markussirotkin', '4', '42', 'Adidas']\n",
                        "1\n",
                        "['marina090102', '0', '42', 'Nike']\n",
                        "1\n",
                        "['gibby158', '0', '42', 'Nike']\n",
                        "1\n",
                        "['hunter41', '11', '42', 'Nike']\n",
                        "1\n",
                        "['anicia25', '9', '37', 'Adidas']\n",
                        "1\n",
                        "['dh.joyce', '0', '42', 'Nike']\n",
                        "1\n",
                        "['maria_shtz', '0', '42', 'Nike']\n",
                        "1\n",
                        "['kaetschelinoo', '4', '37', 'Adidas']\n",
                        "1\n",
                        "['noodlesoup', '0', '36', 'Adidas']\n",
                        "1\n",
                        "['marylovescandy', '9', '37', 'Adidas']\n",
                        "1\n",
                        "['zweitliebe', '1', '42', 'Adidas']\n",
                        "1\n",
                        "['kayt.kayt', '0', '36', 'Adidas']\n",
                        "1\n",
                        "['paty66085', '0', '42', 'Adidas']\n",
                        "1\n",
                        "['blackstaryana08', '0', '43.5', 'Nike']\n",
                        "1\n",
                        "['claudia_wickles1712', '1', '42', 'Adidas']\n",
                        "1\n",
                        "['donnieeandmoka', '0', '37', 'Adidas']\n",
                        "1\n",
                        "['anne.schroeder94', '1', '37', 'Adidas']\n",
                        "1\n",
                        "['hanslebkuchen', '0', '42', 'Nike']\n",
                        "1\n",
                        "['benedikt.reinel', '3', '42', 'Nike']\n",
                        "1\n"
                    ]
                }
            ],
            "metadata": {}
        },
        {
            "cell_type": "code",
            "execution_count": null,
            "source": [],
            "outputs": [],
            "metadata": {}
        }
    ],
    "metadata": {
        "orig_nbformat": 4,
        "language_info": {
            "name": "python",
            "version": "3.9.5",
            "mimetype": "text/x-python",
            "codemirror_mode": {
                "name": "ipython",
                "version": 3
            },
            "pygments_lexer": "ipython3",
            "nbconvert_exporter": "python",
            "file_extension": ".py"
        },
        "kernelspec": {
            "name": "python3",
            "display_name": "Python 3.9.5 64-bit ('scrapper': conda)"
        },
        "interpreter": {
            "hash": "93a2b3115bd34c81c7509de73ca04e82936afd4894b4766f00f91636c4159658"
        }
    },
    "nbformat": 4,
    "nbformat_minor": 2
}