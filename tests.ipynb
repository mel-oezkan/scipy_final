{
    "cells": [
        {
            "cell_type": "code",
            "execution_count": 2,
            "source": [
                "import tensorflow as tf"
            ],
            "outputs": [],
            "metadata": {}
        },
        {
            "cell_type": "code",
            "execution_count": 10,
            "source": [
                "model = tf.keras.Sequential([\n",
                "    tf.keras.layers.InputLayer((110,110,3)),\n",
                "    tf.keras.layers.Conv2D(32, 2, padding=\"same\", activation=\"relu\"),\n",
                "    tf.keras.layers.MaxPool2D(2, 2),\n",
                "    tf.keras.layers.Conv2D(32, 2, padding=\"valid\", activation=\"relu\"),\n",
                "    tf.keras.layers.MaxPool2D(2, 2),\n",
                "    tf.keras.layers.Conv2D(32, 2, padding=\"valid\", activation=\"relu\"),\n",
                "    tf.keras.layers.MaxPool2D(2, 2),\n",
                "    tf.keras.layers.Conv2D(32, 2, padding=\"valid\", activation=\"relu\"),\n",
                "    tf.keras.layers.GlobalAveragePooling2D(),\n",
                "    tf.keras.layers.Dense(2, activation=\"softmax\")    \n",
                "])"
            ],
            "outputs": [],
            "metadata": {}
        },
        {
            "cell_type": "code",
            "execution_count": 11,
            "source": [
                "model.summary()"
            ],
            "outputs": [
                {
                    "output_type": "stream",
                    "name": "stdout",
                    "text": [
                        "Model: \"sequential_4\"\n",
                        "_________________________________________________________________\n",
                        "Layer (type)                 Output Shape              Param #   \n",
                        "=================================================================\n",
                        "conv2d_16 (Conv2D)           (None, 110, 110, 32)      416       \n",
                        "_________________________________________________________________\n",
                        "max_pooling2d_12 (MaxPooling (None, 55, 55, 32)        0         \n",
                        "_________________________________________________________________\n",
                        "conv2d_17 (Conv2D)           (None, 54, 54, 32)        4128      \n",
                        "_________________________________________________________________\n",
                        "max_pooling2d_13 (MaxPooling (None, 27, 27, 32)        0         \n",
                        "_________________________________________________________________\n",
                        "conv2d_18 (Conv2D)           (None, 26, 26, 32)        4128      \n",
                        "_________________________________________________________________\n",
                        "max_pooling2d_14 (MaxPooling (None, 13, 13, 32)        0         \n",
                        "_________________________________________________________________\n",
                        "conv2d_19 (Conv2D)           (None, 12, 12, 32)        4128      \n",
                        "_________________________________________________________________\n",
                        "global_average_pooling2d_4 ( (None, 32)                0         \n",
                        "_________________________________________________________________\n",
                        "dense_4 (Dense)              (None, 2)                 66        \n",
                        "=================================================================\n",
                        "Total params: 12,866\n",
                        "Trainable params: 12,866\n",
                        "Non-trainable params: 0\n",
                        "_________________________________________________________________\n"
                    ]
                }
            ],
            "metadata": {}
        },
        {
            "cell_type": "code",
            "execution_count": null,
            "source": [
                "print(\"Hallo\")"
            ],
            "outputs": [],
            "metadata": {}
        },
        {
            "cell_type": "code",
            "execution_count": 12,
            "source": [
                "model = tf.keras.Sequential()"
            ],
            "outputs": [],
            "metadata": {}
        },
        {
            "cell_type": "code",
            "execution_count": 15,
            "source": [
                "model.add(tf.keras.layers.InputLayer((110,110,3)))\n",
                "model.add(tf.keras.layers.Dense(12))"
            ],
            "outputs": [],
            "metadata": {}
        },
        {
            "cell_type": "code",
            "execution_count": 16,
            "source": [
                "model.summary()"
            ],
            "outputs": [
                {
                    "output_type": "stream",
                    "name": "stdout",
                    "text": [
                        "Model: \"sequential_5\"\n",
                        "_________________________________________________________________\n",
                        "Layer (type)                 Output Shape              Param #   \n",
                        "=================================================================\n",
                        "input_7 (InputLayer)         multiple                  0         \n",
                        "_________________________________________________________________\n",
                        "dense_5 (Dense)              (None, 110, 110, 12)      48        \n",
                        "=================================================================\n",
                        "Total params: 48\n",
                        "Trainable params: 48\n",
                        "Non-trainable params: 0\n",
                        "_________________________________________________________________\n"
                    ]
                }
            ],
            "metadata": {}
        },
        {
            "cell_type": "code",
            "execution_count": 1,
            "source": [
                "from src.scrapper.WebScrapper import Scrapper"
            ],
            "outputs": [],
            "metadata": {}
        },
        {
            "cell_type": "code",
            "execution_count": 2,
            "source": [
                "test_scrapper = Scrapper()\n",
                "# "
            ],
            "outputs": [
                {
                    "output_type": "stream",
                    "name": "stdout",
                    "text": [
                        "/home/melih/Documents/Uni/s4/SciPy/scipy_final\n"
                    ]
                }
            ],
            "metadata": {}
        },
        {
            "cell_type": "code",
            "execution_count": 4,
            "source": [
                "test_scrapper.config_parser([\"male\", \"shoes\"])"
            ],
            "outputs": [
                {
                    "output_type": "error",
                    "ename": "TypeError",
                    "evalue": "can only concatenate str (not \"dict\") to str",
                    "traceback": [
                        "\u001b[0;31m---------------------------------------------------------------------------\u001b[0m",
                        "\u001b[0;31mTypeError\u001b[0m                                 Traceback (most recent call last)",
                        "\u001b[0;32m<ipython-input-4-f42c7ec1de4c>\u001b[0m in \u001b[0;36m<module>\u001b[0;34m\u001b[0m\n\u001b[0;32m----> 1\u001b[0;31m \u001b[0mtest_scrapper\u001b[0m\u001b[0;34m.\u001b[0m\u001b[0mconfig_parser\u001b[0m\u001b[0;34m(\u001b[0m\u001b[0;34m[\u001b[0m\u001b[0;34m\"male\"\u001b[0m\u001b[0;34m,\u001b[0m \u001b[0;34m\"shoes\"\u001b[0m\u001b[0;34m]\u001b[0m\u001b[0;34m)\u001b[0m\u001b[0;34m\u001b[0m\u001b[0;34m\u001b[0m\u001b[0m\n\u001b[0m",
                        "\u001b[0;32m~/Documents/Uni/s4/SciPy/scipy_final/src/scrapper/WebScrapper.py\u001b[0m in \u001b[0;36mconfig_parser\u001b[0;34m(attributes, config)\u001b[0m\n\u001b[1;32m     30\u001b[0m         \u001b[0;32mfor\u001b[0m \u001b[0mattr\u001b[0m \u001b[0;32min\u001b[0m \u001b[0mattributes\u001b[0m\u001b[0;34m:\u001b[0m\u001b[0;34m\u001b[0m\u001b[0;34m\u001b[0m\u001b[0m\n\u001b[1;32m     31\u001b[0m             \u001b[0;32mif\u001b[0m \u001b[0mattr\u001b[0m \u001b[0;32min\u001b[0m \u001b[0mconf_keys\u001b[0m\u001b[0;34m:\u001b[0m\u001b[0;34m\u001b[0m\u001b[0;34m\u001b[0m\u001b[0m\n\u001b[0;32m---> 32\u001b[0;31m                 \u001b[0mquery\u001b[0m \u001b[0;34m=\u001b[0m \u001b[0mquery\u001b[0m \u001b[0;34m+\u001b[0m \u001b[0mconfig\u001b[0m\u001b[0;34m[\u001b[0m\u001b[0mattr\u001b[0m\u001b[0;34m]\u001b[0m\u001b[0;34m\u001b[0m\u001b[0;34m\u001b[0m\u001b[0m\n\u001b[0m\u001b[1;32m     33\u001b[0m             \u001b[0;32melse\u001b[0m\u001b[0;34m:\u001b[0m\u001b[0;34m\u001b[0m\u001b[0;34m\u001b[0m\u001b[0m\n\u001b[1;32m     34\u001b[0m                 \u001b[0;32mreturn\u001b[0m \u001b[0;34m\"\"\u001b[0m\u001b[0;34m\u001b[0m\u001b[0;34m\u001b[0m\u001b[0m\n",
                        "\u001b[0;31mTypeError\u001b[0m: can only concatenate str (not \"dict\") to str"
                    ]
                }
            ],
            "metadata": {}
        },
        {
            "cell_type": "code",
            "execution_count": 3,
            "source": [
                "test_scrapper.test_run(page_range=[1,2])"
            ],
            "outputs": [
                {
                    "output_type": "stream",
                    "name": "stdout",
                    "text": [
                        "['uz1111', '3', 'XL', 'Replay', 'Gepusht']\n",
                        "1\n",
                        "['illz', '15', 'XL', 'Vintage', 'Gepusht']\n",
                        "1\n",
                        "['martymcfly14700', '3', 'XS', 'Kith', 'Gepusht']\n",
                        "1\n",
                        "['uncle_dan', '18', 'M', 'Vintage', 'Gepusht']\n",
                        "1\n",
                        "['nloew', '21', 'M', '6pm', 'Gepusht']\n",
                        "1\n",
                        "['nloew', '4', 'L', 'Vintage', 'Gepusht']\n",
                        "1\n",
                        "['gianluca6', '7', 'M', 'Neighborhood', 'Gepusht']\n",
                        "1\n",
                        "['paul37249', '2', 'L', 'peso', 'Gepusht']\n",
                        "1\n",
                        "['resell77', '11', 'L', 'peso', 'Gepusht']\n",
                        "1\n",
                        "['luna0608', '0', 'L', 'Mustang', 'Gepusht']\n",
                        "1\n",
                        "['katju99', '11', 'L', 'Pull & Bear', 'Gepusht']\n",
                        "1\n",
                        "['jonas_089', '20', 'L', 'Esprit', 'Gepusht']\n",
                        "1\n",
                        "['play4wy', '4', 'XL', 'Hanes', 'Gepusht']\n",
                        "1\n",
                        "['tinwiekris', '1', 'XL', 'FSBN', 'Gepusht']\n",
                        "1\n",
                        "['felix_l_b', '7', 'XL', 'Travis Scott', 'Gepusht']\n",
                        "1\n",
                        "['julianfriedle', '16', 'L', 'peso', 'Gepusht']\n",
                        "1\n",
                        "['iamlizacole', '24', 'XL', 'Hard Rock Café', 'Gepusht']\n",
                        "1\n",
                        "['lisl1706', '9', 'XL', 'Wood Wood', 'Gepusht']\n",
                        "1\n",
                        "['robinunger1212', '0', 'M', 'Roberto geissini', 'Gepusht']\n",
                        "1\n",
                        "['damian.s98', '10', 'S', 'peso', 'Gepusht']\n",
                        "1\n",
                        "['premiummenswear', '6', 'M', 'Nike', 'Gepusht']\n",
                        "1\n",
                        "['dnny.y', '11', 'L', '', 'Gepusht']\n",
                        "1\n",
                        "['maxpanda', '0', 'S', 'Fred Perry', 'Gepusht']\n",
                        "1\n",
                        "['vvvv22', '2', 'L', 'EVANAxDESIGN', 'Gepusht']\n",
                        "1\n"
                    ]
                }
            ],
            "metadata": {}
        },
        {
            "cell_type": "code",
            "execution_count": 4,
            "source": [
                "test_scrapper.test()"
            ],
            "outputs": [
                {
                    "output_type": "error",
                    "ename": "TypeError",
                    "evalue": "test() missing 1 required positional argument: 'self'",
                    "traceback": [
                        "\u001b[0;31m---------------------------------------------------------------------------\u001b[0m",
                        "\u001b[0;31mTypeError\u001b[0m                                 Traceback (most recent call last)",
                        "\u001b[0;32m<ipython-input-4-894d70a9336a>\u001b[0m in \u001b[0;36m<module>\u001b[0;34m\u001b[0m\n\u001b[0;32m----> 1\u001b[0;31m \u001b[0mtest_scrapper\u001b[0m\u001b[0;34m.\u001b[0m\u001b[0mtest\u001b[0m\u001b[0;34m(\u001b[0m\u001b[0;34m)\u001b[0m\u001b[0;34m\u001b[0m\u001b[0;34m\u001b[0m\u001b[0m\n\u001b[0m",
                        "\u001b[0;31mTypeError\u001b[0m: test() missing 1 required positional argument: 'self'"
                    ]
                }
            ],
            "metadata": {}
        },
        {
            "cell_type": "code",
            "execution_count": 10,
            "source": [
                "from selenium import webdriver\n",
                "import os#\n",
                "\n",
                "curr_path = os.getcwd()\n",
                "print(curr_path)"
            ],
            "outputs": [
                {
                    "output_type": "stream",
                    "name": "stdout",
                    "text": [
                        "/home/melih/Documents/Uni/s4/SciPy/scipy_final\n"
                    ]
                }
            ],
            "metadata": {}
        },
        {
            "cell_type": "code",
            "execution_count": 14,
            "source": [
                "path = os.path.join(curr_path, \"/drivers/chromedriver_linux64/chromedriver\")\n",
                "print(curr_path + \"/drivers/chromedriver_linux64/chromedriver\")\n",
                "driver = webdriver.Chrome(curr_path + \"/drivers/chromedriver_linux64/chromedriver\")"
            ],
            "outputs": [
                {
                    "output_type": "stream",
                    "name": "stdout",
                    "text": [
                        "/home/melih/Documents/Uni/s4/SciPy/scipy_final/drivers/chromedriver_linux64/chromedriver\n"
                    ]
                }
            ],
            "metadata": {}
        },
        {
            "cell_type": "code",
            "execution_count": 4,
            "source": [
                "for i in range(5,10):\n",
                "    print(i)"
            ],
            "outputs": [
                {
                    "output_type": "stream",
                    "name": "stdout",
                    "text": [
                        "5\n",
                        "6\n",
                        "7\n",
                        "8\n",
                        "9\n"
                    ]
                }
            ],
            "metadata": {}
        },
        {
            "cell_type": "code",
            "execution_count": 7,
            "source": [
                "from src.scrapper.IdMaps import Mapper"
            ],
            "outputs": [],
            "metadata": {}
        },
        {
            "cell_type": "code",
            "execution_count": 4,
            "source": [
                "print(Mapper[\"male\"][\"shoes\"][38.0])"
            ],
            "outputs": [
                {
                    "output_type": "stream",
                    "name": "stdout",
                    "text": [
                        "size_id[]=776\n"
                    ]
                }
            ],
            "metadata": {}
        },
        {
            "cell_type": "code",
            "execution_count": null,
            "source": [
                "settings = {\n",
                "    \"gender\": \"male\",\n",
                "    \"clothing_types\": [\n",
                "        {\"sneaker\":[\n",
                "            {\n",
                "                \"size\": [42, 43, 44],\n",
                "                \"color\": \"red\",\n",
                "            }\n",
                "        ]},\n",
                "        {\"flip-flop\":[\n",
                "            {\n",
                "                \"size\": [42, 43, 44],\n",
                "                \"color\": \"green\",\n",
                "            }\n",
                "        ]},\n",
                "    ]\n",
                "}\n",
                "\n",
                "# Read until the contained element is not a dict\n",
                "# Fetch the previous parameters and append them with the current settings"
            ],
            "outputs": [],
            "metadata": {}
        },
        {
            "cell_type": "markdown",
            "source": [
                "call(\"gender\") → Config[\"male\"]\n",
                "call(\"clothing_types\") → call({\"sneaker\"}{\"flip_flop\"})\n",
                "call(\"sneaker\") → Config[\"male\"][\"sneaker\"]\n",
                "\n",
                "if input in [\"sneaker\", \"flip-flop\", \"shoes\"]"
            ],
            "metadata": {}
        },
        {
            "cell_type": "code",
            "execution_count": 9,
            "source": [
                "from src.scrapper.IdMaps import Mapper\n",
                "\n",
                "def create_conf(args) -> str:\n",
                "    \"\"\" Given the different preferences the function maps those inputs into \n",
                "    their respective string notation and appends them to the url\n",
                "    \n",
                "    args = [\n",
                "        {\"gender\": \"femal\", \"category\": shoes\", \"size\": [36, 37], \"color\": [\"red\", \"green\"], \"brand\": [\"nike\", \"addidas\"]},\n",
                "        {\"gender\": \"male\", \"category\": shoes\", \"size\": [36, 37], \"color\": [\"red\", \"green\"], \"brand\": [\"nike\", \"addidas\"]},\n",
                "        {\"gender\": \"male\", \"category\": pants\", \"size\": [\"M\", \"L\"]}\n",
                "        {\"gender\": \"male\", \"category\": rings\", \"size\": [\"M\", \"L\"]}\n",
                "    ]\n",
                "    \"\"\"\n",
                "\n",
                "    # class will contain value\n",
                "    url = \"example_url.html\"\n",
                "    url = url + \"&\"\n",
                "\n",
                "    arg_dict = {\n",
                "        \"sizes\": [],\n",
                "        \"colors\": [],\n",
                "        \"brands\": [],\n",
                "        \"categories\": [],\n",
                "    }\n",
                "\n",
                "    for arg in args:\n",
                "        temp_conf = Mapper[arg[\"gender\"]]\n",
                "\n",
                "        # check for category\n",
                "        assert isinstance(arg[\"category\"], str), \"\"\"Only accepts single category types, to \n",
                "            include multiple category just append them to the args\"\"\"\n",
                "\n",
                "        # Handling of cases in which args are empty\n",
                "        conf_categories = temp_conf[\"category\"]\n",
                "        # print(conf)\n",
                "        if \"category\" in arg.keys():\n",
                "            category = conf_categories[arg[\"category\"]]\n",
                "            arg_dict[\"categories\"].append(category)        \n",
                "        else:\n",
                "            # take the category for all\n",
                "            category = conf_categories[\"all\"]\n",
                "            arg_dict[\"categories\"].append(category)\n",
                "\n",
                "\n",
                "        if \"size\" in arg.keys():\n",
                "            # print(arg[\"category\"])\n",
                "            size_conf = temp_conf[\"sizes\"][arg[\"category\"]]\n",
                "            print(size_conf)\n",
                "            for size in arg[\"size\"]:\n",
                "                # check if value is a valid key for the dict\n",
                "                if size not in size_conf: \n",
                "                    raise ValueError(f\"Argument {size} is not supported. Either change the sizes or contac the creators via github\")\n",
                "\n",
                "                # add the respective url tokens based on the \n",
                "                # given catergory\n",
                "                print(float(size))\n",
                "                arg_dict[\"sizes\"].append(size_conf[float(size)])\n",
                "        \n",
                "\n",
                "        if \"color\" in arg.keys():\n",
                "            color_conf = Mapper[\"colors\"]\n",
                "            for color in arg[\"color\"]:\n",
                "                # add the respective url tokens based on the \n",
                "                # given catergory\n",
                "                if color not in color_conf: \n",
                "                    raise ValueError(f\"Argument {color} is not supported. Either change the sizes or contac the creators via github\")\n",
                "                    \n",
                "\n",
                "                color_token = color_conf[color]\n",
                "                arg_dict[\"colors\"].append(color_token)\n",
                "\n",
                "        if \"brand\" in arg.keys():\n",
                "            brand_conf = Mapper[\"brands\"]\n",
                "            for brand in arg[\"brand\"]:\n",
                "                # add the respective url tokens based on the \n",
                "                # given catergory\n",
                "                if brand not in brand_conf: \n",
                "                    raise ValueError(f\"Argument {brand} is not supported. Either change the sizes or contac the creators via github\")\n",
                "                    \n",
                "                brand_token = brand_conf[brand]\n",
                "                arg_dict[\"brands\"].append(brand_token)\n",
                "\n",
                "    for key in arg_dict.keys():\n",
                "        for token in set(arg_dict[key]):\n",
                "            url += str(token) + \"&\"\n",
                "\n",
                "    return url, arg_dict\n",
                "\n",
                "\n",
                "    "
            ],
            "outputs": [],
            "metadata": {}
        },
        {
            "cell_type": "code",
            "execution_count": 10,
            "source": [
                "args = [\n",
                "    {\"gender\": \"female\", \"category\": \"shoes\", \"size\": [36, 37], \"color\": [\"red\", \"green\"], \"brand\": [\"nike\", \"addidas\"]},\n",
                "    {\"gender\": \"male\", \"category\": \"shoes\", \"size\": [38, 39], \"color\": [\"red\", \"green\"], \"brand\": [\"nike\", \"addidas\"]},\n",
                "    # {\"gender\": \"male\", \"category\": \"pants\", \"size\": [\"M\", \"L\"]},\n",
                "    # {\"gender\": \"male\", \"category\": \"rings\", \"size\": [\"M\", \"L\"]}\n",
                "]\n",
                "\n",
                "create_conf(args)"
            ],
            "outputs": [
                {
                    "output_type": "stream",
                    "name": "stdout",
                    "text": [
                        "{35.0: 'size_id[]=55', 35.5: 'size_id[]=1195', 36.0: 'size_id[]=56', 36.5: 'size_id[]=1196', 37.0: 'size_id[]=57', 37.5: 'size_id[]=1197', 38.0: 'size_id[]=58', 38.5: 'size_id[]=1198', 39.0: 'size_id[]=59', 39.5: 'size_id[]=1199', 40.0: 'size_id[]=60', 40.5: 'size_id[]=1200', 41.0: 'size_id[]=61', 41.5: 'size_id[]=1201', 42.0: 'size_id[]=62', 43.0: 'size_id[]=63'}\n",
                        "36.0\n",
                        "37.0\n",
                        "{38.0: 'size_id[]=776', 39.0: 'size_id[]=778', 40.0: 'size_id[]=780', 41.0: 'size_id[]=782', 42.0: 'size_id[]=784', 42.5: 'size_id[]=785', 43.0: 'size_id[]=787', 43.5: 'size_id[]=788', 44.0: 'size_id[]=790', 44.5: 'size_id[]=791', 45.0: 'size_id[]=792', 46.0: 'size_id[]=793', 47.0: 'size_id[]=794'}\n",
                        "38.0\n",
                        "39.0\n"
                    ]
                },
                {
                    "output_type": "execute_result",
                    "data": {
                        "text/plain": [
                            "('example_url.html&size_id[]=57&size_id[]=776&size_id[]=56&size_id[]=778&None&color_id[]=187&None&None&test&',\n",
                            " {'sizes': ['size_id[]=56', 'size_id[]=57', 'size_id[]=776', 'size_id[]=778'],\n",
                            "  'colors': ['color_id[]=187', None, 'color_id[]=187', None],\n",
                            "  'brands': [None, None, None, None],\n",
                            "  'categories': [None, 'test']})"
                        ]
                    },
                    "metadata": {},
                    "execution_count": 10
                }
            ],
            "metadata": {}
        },
        {
            "cell_type": "code",
            "execution_count": 6,
            "source": [
                "print(Mapper[\"female\"][\"sizes\"][\"shoes\"][float(int(36))])"
            ],
            "outputs": [
                {
                    "output_type": "stream",
                    "name": "stdout",
                    "text": [
                        "size_id[]=56\n"
                    ]
                }
            ],
            "metadata": {}
        },
        {
            "cell_type": "code",
            "execution_count": null,
            "source": [
                "def config_parser(attributes: list, config=Mapper) -> str:\n",
                "    \"\"\" Takes a filter argument and returns its \n",
                "    respective query string for the url\n",
                "\n",
                "    :args attribute: \n",
                "    :args config: the current configurations based on the mappings\n",
                "    \"\"\"\n",
                "    conf_keys = config.keys()\n",
                "    query = \"\"\n",
                "\n",
                "    for attr in attributes:\n",
                "        if attr in conf_keys:\n",
                "            query = query + config[attr]\n",
                "        else:\n",
                "            return \"\"\n",
                "\n",
                "    return query"
            ],
            "outputs": [],
            "metadata": {}
        },
        {
            "cell_type": "code",
            "execution_count": 26,
            "source": [
                "l = [\"male\", \"shoes\", 38.0]\n",
                "\n",
                "curr_conf = Mapper\n",
                "for key in l:\n",
                "    print(key)\n",
                "    \n",
                "    curr_conf = curr_conf[key]\n",
                "    \n",
                "    if isinstance(curr_conf, str):\n",
                "        break\n",
                "\n",
                "    print(list(curr_conf.keys()))\n",
                "    \n",
                "\n",
                "print(curr_conf)"
            ],
            "outputs": [
                {
                    "output_type": "stream",
                    "name": "stdout",
                    "text": [
                        "male\n",
                        "['clothes', 'shoes']\n",
                        "shoes\n",
                        "[38.0, 39.0, 40.0, 41.0, 42.0, 42.5, 43.0, 43.5, 44.0, 44.5, 45.0, 46.0, 47.0]\n",
                        "38.0\n",
                        "size_id[]=776\n"
                    ]
                }
            ],
            "metadata": {}
        },
        {
            "cell_type": "code",
            "execution_count": 20,
            "source": [
                "Mapper[\"male\"]"
            ],
            "outputs": [
                {
                    "output_type": "execute_result",
                    "data": {
                        "text/plain": [
                            "{'clothes': None,\n",
                            " 'shoes': {38.0: 'size_id[]=776',\n",
                            "  39.0: 'size_id[]=778',\n",
                            "  40.0: 'size_id[]=780',\n",
                            "  41.0: 'size_id[]=782',\n",
                            "  42.0: 'size_id[]=784',\n",
                            "  42.5: 'size_id[]=785',\n",
                            "  43.0: 'size_id[]=787',\n",
                            "  43.5: 'size_id[]=788',\n",
                            "  44.0: 'size_id[]=790',\n",
                            "  44.5: 'size_id[]=791',\n",
                            "  45.0: 'size_id[]=792',\n",
                            "  46.0: 'size_id[]=793',\n",
                            "  47.0: 'size_id[]=794'}}"
                        ]
                    },
                    "metadata": {},
                    "execution_count": 20
                }
            ],
            "metadata": {}
        },
        {
            "cell_type": "code",
            "execution_count": null,
            "source": [],
            "outputs": [],
            "metadata": {}
        }
    ],
    "metadata": {
        "orig_nbformat": 4,
        "language_info": {
            "name": "python",
            "version": "3.9.5",
            "mimetype": "text/x-python",
            "codemirror_mode": {
                "name": "ipython",
                "version": 3
            },
            "pygments_lexer": "ipython3",
            "nbconvert_exporter": "python",
            "file_extension": ".py"
        },
        "kernelspec": {
            "name": "python3",
            "display_name": "Python 3.9.5 64-bit ('scrapper': conda)"
        },
        "interpreter": {
            "hash": "93a2b3115bd34c81c7509de73ca04e82936afd4894b4766f00f91636c4159658"
        }
    },
    "nbformat": 4,
    "nbformat_minor": 2
}