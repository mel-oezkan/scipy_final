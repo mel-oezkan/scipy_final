{
 "cells": [
  {
   "cell_type": "markdown",
   "id": "5823904d",
   "metadata": {},
   "source": [
    "# Analysis of the VintedStore Data\n"
   ]
  },
  {
   "cell_type": "markdown",
   "id": "ece38bb6",
   "metadata": {},
   "source": [
    "## Finding Differences between Men and Women in Clothing:"
   ]
  },
  {
   "cell_type": "markdown",
   "id": "91cd9a9a-e00b-4787-b7e7-bff0c6969a65",
   "metadata": {},
   "source": [
    "This is supposed to be a simple demonstration of what we can do with the data that can be provided by the webscrabber."
   ]
  },
  {
   "cell_type": "markdown",
   "id": "96be8eb8",
   "metadata": {},
   "source": [
    "Import required Packages.\n"
   ]
  },
  {
   "cell_type": "code",
   "execution_count": 1,
   "id": "e8c2306a",
   "metadata": {},
   "outputs": [],
   "source": [
    "import pandas as pd\n",
    "import matplotlib.pyplot as plt\n",
    "import numpy as np"
   ]
  },
  {
   "cell_type": "markdown",
   "id": "7a1a765c",
   "metadata": {},
   "source": [
    "Read the dataset and clean it."
   ]
  },
  {
   "cell_type": "code",
   "execution_count": 2,
   "id": "ec334a09",
   "metadata": {},
   "outputs": [
    {
     "data": {
      "text/html": [
       "<div>\n",
       "<style scoped>\n",
       "    .dataframe tbody tr th:only-of-type {\n",
       "        vertical-align: middle;\n",
       "    }\n",
       "\n",
       "    .dataframe tbody tr th {\n",
       "        vertical-align: top;\n",
       "    }\n",
       "\n",
       "    .dataframe thead th {\n",
       "        text-align: right;\n",
       "    }\n",
       "</style>\n",
       "<table border=\"1\" class=\"dataframe\">\n",
       "  <thead>\n",
       "    <tr style=\"text-align: right;\">\n",
       "      <th></th>\n",
       "      <th>Username</th>\n",
       "      <th>Likes</th>\n",
       "      <th>Size</th>\n",
       "      <th>Style</th>\n",
       "      <th>Price(€)</th>\n",
       "      <th>URL</th>\n",
       "      <th>Member Adress</th>\n",
       "    </tr>\n",
       "  </thead>\n",
       "  <tbody>\n",
       "    <tr>\n",
       "      <th>0</th>\n",
       "      <td>uz1111</td>\n",
       "      <td>3</td>\n",
       "      <td>XL</td>\n",
       "      <td>Replay</td>\n",
       "      <td>8.0</td>\n",
       "      <td>https://www.vinted.de/herren/kleidung/tops-and...</td>\n",
       "      <td>https://www.vinted.de/member/65706702-uz1111</td>\n",
       "    </tr>\n",
       "    <tr>\n",
       "      <th>1</th>\n",
       "      <td>illz</td>\n",
       "      <td>15</td>\n",
       "      <td>XL</td>\n",
       "      <td>Vintage</td>\n",
       "      <td>35.0</td>\n",
       "      <td>https://www.vinted.de/herren/kleidung/tops-and...</td>\n",
       "      <td>https://www.vinted.de/member/43707297-illz</td>\n",
       "    </tr>\n",
       "    <tr>\n",
       "      <th>2</th>\n",
       "      <td>martymcfly14700</td>\n",
       "      <td>3</td>\n",
       "      <td>XS</td>\n",
       "      <td>Kith</td>\n",
       "      <td>79.0</td>\n",
       "      <td>https://www.vinted.de/herren/kleidung/tops-and...</td>\n",
       "      <td>https://www.vinted.de/member/43844982-martymcf...</td>\n",
       "    </tr>\n",
       "    <tr>\n",
       "      <th>3</th>\n",
       "      <td>uncle_dan</td>\n",
       "      <td>18</td>\n",
       "      <td>M</td>\n",
       "      <td>Vintage</td>\n",
       "      <td>35.0</td>\n",
       "      <td>https://www.vinted.de/herren/kleidung/tops-and...</td>\n",
       "      <td>https://www.vinted.de/member/65661162-uncledan</td>\n",
       "    </tr>\n",
       "    <tr>\n",
       "      <th>4</th>\n",
       "      <td>nloew</td>\n",
       "      <td>21</td>\n",
       "      <td>M</td>\n",
       "      <td>6pm</td>\n",
       "      <td>60.0</td>\n",
       "      <td>https://www.vinted.de/herren/kleidung/tops-and...</td>\n",
       "      <td>https://www.vinted.de/member/43787172-nloew</td>\n",
       "    </tr>\n",
       "  </tbody>\n",
       "</table>\n",
       "</div>"
      ],
      "text/plain": [
       "          Username  Likes Size    Style  Price(€)  \\\n",
       "0           uz1111      3   XL   Replay       8.0   \n",
       "1             illz     15   XL  Vintage      35.0   \n",
       "2  martymcfly14700      3   XS     Kith      79.0   \n",
       "3        uncle_dan     18    M  Vintage      35.0   \n",
       "4            nloew     21    M      6pm      60.0   \n",
       "\n",
       "                                                 URL  \\\n",
       "0  https://www.vinted.de/herren/kleidung/tops-and...   \n",
       "1  https://www.vinted.de/herren/kleidung/tops-and...   \n",
       "2  https://www.vinted.de/herren/kleidung/tops-and...   \n",
       "3  https://www.vinted.de/herren/kleidung/tops-and...   \n",
       "4  https://www.vinted.de/herren/kleidung/tops-and...   \n",
       "\n",
       "                                       Member Adress  \n",
       "0       https://www.vinted.de/member/65706702-uz1111  \n",
       "1         https://www.vinted.de/member/43707297-illz  \n",
       "2  https://www.vinted.de/member/43844982-martymcf...  \n",
       "3     https://www.vinted.de/member/65661162-uncledan  \n",
       "4        https://www.vinted.de/member/43787172-nloew  "
      ]
     },
     "execution_count": 2,
     "metadata": {},
     "output_type": "execute_result"
    }
   ],
   "source": [
    "col_names1 = ['Username', 'Likes', 'Size',  'Style', 'Price(€)', 'URL', 'Member Adress' ]\n",
    "\n",
    "data1 = pd.read_csv('data/full_data.csv', names = col_names1 )\n",
    "\n",
    "data1 = data1.replace('\\€','',regex=True)\n",
    "data1 = data1.replace('\\,','.',regex=True)\n",
    "\n",
    "data1[\"Price(€)\"] = pd.to_numeric(data1[\"Price(€)\"], downcast=\"float\")\n",
    "\n",
    "data1.head()\n"
   ]
  },
  {
   "cell_type": "markdown",
   "id": "a3a3583c-1708-45d7-a066-5f6562b8a4c6",
   "metadata": {},
   "source": [
    "In the folllowing plot, the values of price and Likes are plotted, this shall only be an instance from what we could infer a relation between the two variables price and number of likes."
   ]
  },
  {
   "cell_type": "code",
   "execution_count": 4,
   "id": "b3f0637e",
   "metadata": {},
   "outputs": [
    {
     "data": {
      "image/png": "[encoded data removed]",
      "text/plain": [
       "<Figure size 432x288 with 1 Axes>"
      ]
     },
     "metadata": {
      "needs_background": "light"
     },
     "output_type": "display_data"
    }
   ],
   "source": [
    "fig, ax = plt.subplots()\n",
    "\n",
    "ax.scatter(data1['Price(€)'], data1['Likes'])\n",
    "ax.set(xlabel='Price(€', ylabel='Likes')\n",
    "ax.set(title='Relation between Price and Likes of a Product on VintedStore')\n",
    "\n",
    "plt.show()"
   ]
  },
  {
   "cell_type": "markdown",
   "id": "d67bfb86-00fd-4345-b0a7-9e9c37cfecdc",
   "metadata": {},
   "source": [
    "Nex we will look at another dataset:\n",
    "\n",
    "Read in another dataset, which also contains information about whether the product was made for women or men, further it also displays the kind of product.\n"
   ]
  },
  {
   "cell_type": "code",
   "execution_count": 5,
   "id": "24344487-6013-42c6-9f8f-1b75617e31c3",
   "metadata": {},
   "outputs": [
    {
     "data": {
      "text/html": [
       "<div>\n",
       "<style scoped>\n",
       "    .dataframe tbody tr th:only-of-type {\n",
       "        vertical-align: middle;\n",
       "    }\n",
       "\n",
       "    .dataframe tbody tr th {\n",
       "        vertical-align: top;\n",
       "    }\n",
       "\n",
       "    .dataframe thead th {\n",
       "        text-align: right;\n",
       "    }\n",
       "</style>\n",
       "<table border=\"1\" class=\"dataframe\">\n",
       "  <thead>\n",
       "    <tr style=\"text-align: right;\">\n",
       "      <th></th>\n",
       "      <th>Gender</th>\n",
       "      <th>Type</th>\n",
       "      <th>Username</th>\n",
       "      <th>Likes</th>\n",
       "      <th>Size</th>\n",
       "      <th>Style</th>\n",
       "      <th>Price(€)</th>\n",
       "      <th>URL</th>\n",
       "      <th>Member Adress</th>\n",
       "    </tr>\n",
       "  </thead>\n",
       "  <tbody>\n",
       "    <tr>\n",
       "      <th>0</th>\n",
       "      <td>female</td>\n",
       "      <td>turnschuhe</td>\n",
       "      <td>akecheta1966</td>\n",
       "      <td>1</td>\n",
       "      <td>42</td>\n",
       "      <td>Adidas</td>\n",
       "      <td>29.0</td>\n",
       "      <td>https://www.vinted.de/herren/schuhe/sportschuh...</td>\n",
       "      <td>https://www.vinted.de/member/61465264-akecheta...</td>\n",
       "    </tr>\n",
       "    <tr>\n",
       "      <th>1</th>\n",
       "      <td>female</td>\n",
       "      <td>turnschuhe</td>\n",
       "      <td>snupmueller</td>\n",
       "      <td>20</td>\n",
       "      <td>42</td>\n",
       "      <td>Nike</td>\n",
       "      <td>129.0</td>\n",
       "      <td>https://www.vinted.de/herren/schuhe/sportschuh...</td>\n",
       "      <td>https://www.vinted.de/member/44328704-snupmueller</td>\n",
       "    </tr>\n",
       "    <tr>\n",
       "      <th>2</th>\n",
       "      <td>female</td>\n",
       "      <td>turnschuhe</td>\n",
       "      <td>tr2011</td>\n",
       "      <td>1</td>\n",
       "      <td>42</td>\n",
       "      <td>Adidas</td>\n",
       "      <td>450.0</td>\n",
       "      <td>https://www.vinted.de/herren/schuhe/sportschuh...</td>\n",
       "      <td>https://www.vinted.de/member/53487353-tr2011</td>\n",
       "    </tr>\n",
       "    <tr>\n",
       "      <th>3</th>\n",
       "      <td>female</td>\n",
       "      <td>turnschuhe</td>\n",
       "      <td>meljess88</td>\n",
       "      <td>26</td>\n",
       "      <td>37</td>\n",
       "      <td>Adidas</td>\n",
       "      <td>25.0</td>\n",
       "      <td>https://www.vinted.de/damen/schuhe/turnschuhe/...</td>\n",
       "      <td>https://www.vinted.de/member/44898204-meljess88</td>\n",
       "    </tr>\n",
       "    <tr>\n",
       "      <th>4</th>\n",
       "      <td>female</td>\n",
       "      <td>turnschuhe</td>\n",
       "      <td>bubumaster3</td>\n",
       "      <td>0</td>\n",
       "      <td>42</td>\n",
       "      <td>Nike</td>\n",
       "      <td>215.0</td>\n",
       "      <td>https://www.vinted.de/herren/schuhe/sportschuh...</td>\n",
       "      <td>https://www.vinted.de/member/44005622-bubumaster3</td>\n",
       "    </tr>\n",
       "  </tbody>\n",
       "</table>\n",
       "</div>"
      ],
      "text/plain": [
       "   Gender        Type      Username  Likes Size   Style  Price(€)  \\\n",
       "0  female  turnschuhe  akecheta1966      1   42  Adidas      29.0   \n",
       "1  female  turnschuhe   snupmueller     20   42    Nike     129.0   \n",
       "2  female  turnschuhe        tr2011      1   42  Adidas     450.0   \n",
       "3  female  turnschuhe     meljess88     26   37  Adidas      25.0   \n",
       "4  female  turnschuhe   bubumaster3      0   42    Nike     215.0   \n",
       "\n",
       "                                                 URL  \\\n",
       "0  https://www.vinted.de/herren/schuhe/sportschuh...   \n",
       "1  https://www.vinted.de/herren/schuhe/sportschuh...   \n",
       "2  https://www.vinted.de/herren/schuhe/sportschuh...   \n",
       "3  https://www.vinted.de/damen/schuhe/turnschuhe/...   \n",
       "4  https://www.vinted.de/herren/schuhe/sportschuh...   \n",
       "\n",
       "                                       Member Adress  \n",
       "0  https://www.vinted.de/member/61465264-akecheta...  \n",
       "1  https://www.vinted.de/member/44328704-snupmueller  \n",
       "2       https://www.vinted.de/member/53487353-tr2011  \n",
       "3    https://www.vinted.de/member/44898204-meljess88  \n",
       "4  https://www.vinted.de/member/44005622-bubumaster3  "
      ]
     },
     "execution_count": 5,
     "metadata": {},
     "output_type": "execute_result"
    }
   ],
   "source": [
    "col_names = ['Gender', 'Type', 'Username', 'Likes', 'Size',  'Style', 'Price(€)', 'URL', 'Member Adress' ]\n",
    "\n",
    "data = pd.read_csv('data/hallo.csv', names=col_names)\n",
    "\n",
    "data = data.replace('\\€','',regex=True)\n",
    "data = data.replace('\\,','.',regex=True)\n",
    "\n",
    "data[\"Price(€)\"] = pd.to_numeric(data[\"Price(€)\"], downcast=\"float\")\n",
    "\n",
    "data.head()\n"
   ]
  },
  {
   "cell_type": "markdown",
   "id": "035e9ded-fbf3-4eb4-91d3-a8064c28b931",
   "metadata": {},
   "source": [
    "We will split the dataset by gender:"
   ]
  },
  {
   "cell_type": "code",
   "execution_count": 6,
   "id": "5441d939-effb-452c-a35e-8c6fb4268e74",
   "metadata": {},
   "outputs": [
    {
     "name": "stdout",
     "output_type": "stream",
     "text": [
      "   Gender         Type       Username  Likes Size   Style  Price(€)  \\\n",
      "24   male  sportschuhe        fundayy      2   37    Nike      20.0   \n",
      "25   male  sportschuhe       jonasrbo      7   36    Nike     450.0   \n",
      "26   male  sportschuhe       irem1810      1   36    Nike       6.0   \n",
      "27   male  sportschuhe  jonathan71715      0   42  Adidas      45.0   \n",
      "28   male  sportschuhe         xaurus      1   42    Nike      65.0   \n",
      "\n",
      "                                                  URL  \\\n",
      "24  https://www.vinted.de/damen/schuhe/turnschuhe/...   \n",
      "25  https://www.vinted.de/damen/schuhe/turnschuhe/...   \n",
      "26  https://www.vinted.de/damen/schuhe/turnschuhe/...   \n",
      "27  https://www.vinted.de/herren/schuhe/sportschuh...   \n",
      "28  https://www.vinted.de/herren/schuhe/sportschuh...   \n",
      "\n",
      "                                        Member Adress  \n",
      "24      https://www.vinted.de/member/59856215-fundayy  \n",
      "25     https://www.vinted.de/member/45816972-jonasrbo  \n",
      "26     https://www.vinted.de/member/58764149-irem1810  \n",
      "27  https://www.vinted.de/member/64598409-jonathan...  \n",
      "28       https://www.vinted.de/member/43671223-xaurus  \n",
      "   Gender        Type      Username  Likes Size   Style  Price(€)  \\\n",
      "0  female  turnschuhe  akecheta1966      1   42  Adidas      29.0   \n",
      "1  female  turnschuhe   snupmueller     20   42    Nike     129.0   \n",
      "2  female  turnschuhe        tr2011      1   42  Adidas     450.0   \n",
      "3  female  turnschuhe     meljess88     26   37  Adidas      25.0   \n",
      "4  female  turnschuhe   bubumaster3      0   42    Nike     215.0   \n",
      "\n",
      "                                                 URL  \\\n",
      "0  https://www.vinted.de/herren/schuhe/sportschuh...   \n",
      "1  https://www.vinted.de/herren/schuhe/sportschuh...   \n",
      "2  https://www.vinted.de/herren/schuhe/sportschuh...   \n",
      "3  https://www.vinted.de/damen/schuhe/turnschuhe/...   \n",
      "4  https://www.vinted.de/herren/schuhe/sportschuh...   \n",
      "\n",
      "                                       Member Adress  \n",
      "0  https://www.vinted.de/member/61465264-akecheta...  \n",
      "1  https://www.vinted.de/member/44328704-snupmueller  \n",
      "2       https://www.vinted.de/member/53487353-tr2011  \n",
      "3    https://www.vinted.de/member/44898204-meljess88  \n",
      "4  https://www.vinted.de/member/44005622-bubumaster3  \n"
     ]
    }
   ],
   "source": [
    "dataMale = data[data['Gender'] == 'male']\n",
    "print(dataMale.head(5))\n",
    "dataFemale = data[data['Gender'] == 'female']\n",
    "print(dataFemale.head(5))\n"
   ]
  },
  {
   "cell_type": "markdown",
   "id": "3ca508b3-3005-4dbe-be36-d9be4e688053",
   "metadata": {},
   "source": [
    "First of all we want to compare some measures of central tendency, therefore we want to compare the total number of products available for men and women:\n"
   ]
  },
  {
   "cell_type": "code",
   "execution_count": 7,
   "id": "f3907ee5-2504-4f92-846b-31811a5e21d3",
   "metadata": {},
   "outputs": [
    {
     "name": "stdout",
     "output_type": "stream",
     "text": [
      "Number of products available for women: 72\n",
      "Number of products available for men: 144\n"
     ]
    }
   ],
   "source": [
    "print('Number of products available for women:', len(dataFemale))\n",
    "print('Number of products available for men:', len(dataMale))"
   ]
  },
  {
   "cell_type": "markdown",
   "id": "a765f8ce-fda4-40f1-b6a2-c7dc327b11c9",
   "metadata": {},
   "source": [
    "Secondly we want to look at the average price for products that were categorized female or male."
   ]
  },
  {
   "cell_type": "code",
   "execution_count": 8,
   "id": "e0151454-5edd-4841-976f-ca0d21337ddc",
   "metadata": {},
   "outputs": [
    {
     "name": "stdout",
     "output_type": "stream",
     "text": [
      "The mean price of women products: 112.79139 €\n",
      "The mean price of men products: 66.548546 €\n"
     ]
    }
   ],
   "source": [
    "print('The mean price of women products:', dataFemale['Price(€)'].mean(),'€')\n",
    "print('The mean price of men products:', dataMale['Price(€)'].mean(),'€')"
   ]
  },
  {
   "cell_type": "markdown",
   "id": "0fa75aaa-1b9f-4226-877e-082af80fc56a",
   "metadata": {},
   "source": [
    "Since we wanted to investigate differences in the results of the VintedStore,  we will focus on the difference between the stayle/brand of the article and the price."
   ]
  },
  {
   "cell_type": "code",
   "execution_count": 9,
   "id": "03bb65d7-6992-4a61-9060-796cc1a983fe",
   "metadata": {},
   "outputs": [
    {
     "data": {
      "image/png": "[encoded data removed]",
      "text/plain": [
       "<Figure size 432x288 with 2 Axes>"
      ]
     },
     "metadata": {
      "needs_background": "light"
     },
     "output_type": "display_data"
    }
   ],
   "source": [
    "fig, axes = plt.subplots(nrows=1, ncols=2)\n",
    "\n",
    "axes[0].scatter(dataMale['Style'], dataMale['Price(€)'])\n",
    "\n",
    "\n",
    "axes[1].scatter(dataFemale['Style'], dataFemale['Price(€)'])\n",
    "\n",
    "\n",
    "axes[0].set(title=\"Male\")\n",
    "axes[1].set(title=\"Female\")\n",
    "\n",
    "plt.show()"
   ]
  },
  {
   "cell_type": "markdown",
   "id": "e723328f-c3d2-438a-988c-c52fe65f9aac",
   "metadata": {},
   "source": [
    "The price for male products seem to be higher, with regard of the total number of products respectively for male and female, which was larger for male."
   ]
  },
  {
   "cell_type": "markdown",
   "id": "1258c533-80e9-4db5-8653-e5b899729e3a",
   "metadata": {},
   "source": [
    "Secondly the differences of the size and the price will be shown between the genders."
   ]
  },
  {
   "cell_type": "code",
   "execution_count": 10,
   "id": "416e7408-1514-4d71-ab9a-59f064e28c36",
   "metadata": {},
   "outputs": [
    {
     "data": {
      "image/png": "[encoded data removed]",
      "text/plain": [
       "<Figure size 432x288 with 2 Axes>"
      ]
     },
     "metadata": {
      "needs_background": "light"
     },
     "output_type": "display_data"
    }
   ],
   "source": [
    "fig, axes = plt.subplots(nrows=1, ncols=2)\n",
    "\n",
    "axes[0].scatter(dataMale['Size'], dataMale['Price(€)'])\n",
    "axes[1].scatter(dataFemale['Size'], dataFemale['Price(€)'])\n",
    "\n",
    "axes[0].set(title=\"Male\")\n",
    "axes[1].set(title=\"Female\")\n",
    "\n",
    "plt.show()"
   ]
  },
  {
   "cell_type": "markdown",
   "id": "afcb616b-98f7-474c-bf6c-23c57465bd0f",
   "metadata": {},
   "source": [
    "We are aware that these visualizations are not very sophisticated but we were keen to have a try with data we provided our selves by the main part of the project; the scrapper itself. Eventhough this analysis does not allow any inferences, it inspired us how data analysis might work and is even accessible to us."
   ]
  }
 ],
 "metadata": {
  "kernelspec": {
   "display_name": "Python 3",
   "language": "python",
   "name": "python3"
  },
  "language_info": {
   "codemirror_mode": {
    "name": "ipython",
    "version": 3
   },
   "file_extension": ".py",
   "mimetype": "text/x-python",
   "name": "python",
   "nbconvert_exporter": "python",
   "pygments_lexer": "ipython3",
   "version": "3.7.10"
  }
 },
 "nbformat": 4,
 "nbformat_minor": 5
}
