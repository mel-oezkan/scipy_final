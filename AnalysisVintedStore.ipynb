{
 "cells": [
  {
   "cell_type": "markdown",
   "id": "5823904d",
   "metadata": {},
   "source": [
    "# Analysis of the VintedStore\n"
   ]
  },
  {
   "cell_type": "markdown",
   "id": "ece38bb6",
   "metadata": {},
   "source": [
    "## Finding Differences between Genders in Clothing:"
   ]
  },
  {
   "cell_type": "markdown",
   "id": "96be8eb8",
   "metadata": {},
   "source": [
    "Import required Packages.\n"
   ]
  },
  {
   "cell_type": "code",
   "execution_count": 2,
   "id": "e8c2306a",
   "metadata": {},
   "outputs": [],
   "source": [
    "import pandas as pd\n",
    "import matplotlib.pyplot as plt\n",
    "import numpy as np"
   ]
  },
  {
   "cell_type": "markdown",
   "id": "7a1a765c",
   "metadata": {},
   "source": [
    "Read the dataset and clean it."
   ]
  },
  {
   "cell_type": "code",
   "execution_count": 38,
   "id": "ec334a09",
   "metadata": {},
   "outputs": [
    {
     "data": {
      "text/html": [
       "<div>\n",
       "<style scoped>\n",
       "    .dataframe tbody tr th:only-of-type {\n",
       "        vertical-align: middle;\n",
       "    }\n",
       "\n",
       "    .dataframe tbody tr th {\n",
       "        vertical-align: top;\n",
       "    }\n",
       "\n",
       "    .dataframe thead th {\n",
       "        text-align: right;\n",
       "    }\n",
       "</style>\n",
       "<table border=\"1\" class=\"dataframe\">\n",
       "  <thead>\n",
       "    <tr style=\"text-align: right;\">\n",
       "      <th></th>\n",
       "      <th>Username</th>\n",
       "      <th>Likes</th>\n",
       "      <th>Size</th>\n",
       "      <th>Style</th>\n",
       "      <th>Price(€)</th>\n",
       "      <th>URL</th>\n",
       "      <th>Member Adress</th>\n",
       "    </tr>\n",
       "  </thead>\n",
       "  <tbody>\n",
       "    <tr>\n",
       "      <th>0</th>\n",
       "      <td>illz</td>\n",
       "      <td>15</td>\n",
       "      <td>XL</td>\n",
       "      <td>Vintage</td>\n",
       "      <td>35.00</td>\n",
       "      <td>https://www.vinted.de/herren/kleidung/tops-and...</td>\n",
       "      <td>https://www.vinted.de/member/43707297-illz</td>\n",
       "    </tr>\n",
       "    <tr>\n",
       "      <th>1</th>\n",
       "      <td>martymcfly14700</td>\n",
       "      <td>3</td>\n",
       "      <td>XS</td>\n",
       "      <td>Kith</td>\n",
       "      <td>79.00</td>\n",
       "      <td>https://www.vinted.de/herren/kleidung/tops-and...</td>\n",
       "      <td>https://www.vinted.de/member/43844982-martymcf...</td>\n",
       "    </tr>\n",
       "    <tr>\n",
       "      <th>2</th>\n",
       "      <td>uncle_dan</td>\n",
       "      <td>18</td>\n",
       "      <td>M</td>\n",
       "      <td>Vintage</td>\n",
       "      <td>35.00</td>\n",
       "      <td>https://www.vinted.de/herren/kleidung/tops-and...</td>\n",
       "      <td>https://www.vinted.de/member/65661162-uncledan</td>\n",
       "    </tr>\n",
       "    <tr>\n",
       "      <th>3</th>\n",
       "      <td>nloew</td>\n",
       "      <td>21</td>\n",
       "      <td>M</td>\n",
       "      <td>6pm</td>\n",
       "      <td>60.00</td>\n",
       "      <td>https://www.vinted.de/herren/kleidung/tops-and...</td>\n",
       "      <td>https://www.vinted.de/member/43787172-nloew</td>\n",
       "    </tr>\n",
       "    <tr>\n",
       "      <th>4</th>\n",
       "      <td>nloew</td>\n",
       "      <td>4</td>\n",
       "      <td>L</td>\n",
       "      <td>Vintage</td>\n",
       "      <td>250.00</td>\n",
       "      <td>https://www.vinted.de/herren/kleidung/tops-and...</td>\n",
       "      <td>https://www.vinted.de/member/43787172-nloew</td>\n",
       "    </tr>\n",
       "  </tbody>\n",
       "</table>\n",
       "</div>"
      ],
      "text/plain": [
       "          Username  Likes Size    Style Price(€)  \\\n",
       "0             illz     15   XL  Vintage   35.00    \n",
       "1  martymcfly14700      3   XS     Kith   79.00    \n",
       "2        uncle_dan     18    M  Vintage   35.00    \n",
       "3            nloew     21    M      6pm   60.00    \n",
       "4            nloew      4    L  Vintage  250.00    \n",
       "\n",
       "                                                 URL  \\\n",
       "0  https://www.vinted.de/herren/kleidung/tops-and...   \n",
       "1  https://www.vinted.de/herren/kleidung/tops-and...   \n",
       "2  https://www.vinted.de/herren/kleidung/tops-and...   \n",
       "3  https://www.vinted.de/herren/kleidung/tops-and...   \n",
       "4  https://www.vinted.de/herren/kleidung/tops-and...   \n",
       "\n",
       "                                       Member Adress  \n",
       "0         https://www.vinted.de/member/43707297-illz  \n",
       "1  https://www.vinted.de/member/43844982-martymcf...  \n",
       "2     https://www.vinted.de/member/65661162-uncledan  \n",
       "3        https://www.vinted.de/member/43787172-nloew  \n",
       "4        https://www.vinted.de/member/43787172-nloew  "
      ]
     },
     "execution_count": 38,
     "metadata": {},
     "output_type": "execute_result"
    }
   ],
   "source": [
    "data1 = pd.read_csv('data/full_data.csv')\n",
    "\n",
    "data1 = data1.rename(columns = {'uz1111': 'Username', '3': 'Likes', 'XL': 'Size', 'Replay':  'Style', '8,00 €': 'Price(€)', 'https://www.vinted.de/herren/kleidung/tops-and-t-shirts/t-shirts/bedruckte-t-shirts/1234463126-replay-t-shirt-xl': 'URL', 'https://www.vinted.de/member/65706702-uz1111': 'Member Adress' })\n",
    "\n",
    "data1 = data1.replace('\\€','',regex=True)\n",
    "data1 = data1.replace('\\,','.',regex=True)\n",
    "\n",
    "data1.head()\n"
   ]
  },
  {
   "cell_type": "code",
   "execution_count": 39,
   "id": "b3f0637e",
   "metadata": {},
   "outputs": [
    {
     "data": {
      "image/png": "[encoded data removed]",
      "text/plain": [
       "<Figure size 432x288 with 1 Axes>"
      ]
     },
     "metadata": {
      "needs_background": "light"
     },
     "output_type": "display_data"
    }
   ],
   "source": [
    "\n",
    "fig, ax = plt.subplots()\n",
    "\n",
    "ax.scatter(data1['Size'], data1['Likes'])\n",
    "ax.set(xlabel='Size', ylabel='Likes')\n",
    "\n",
    "plt.show()"
   ]
  },
  {
   "cell_type": "markdown",
   "id": "d67bfb86-00fd-4345-b0a7-9e9c37cfecdc",
   "metadata": {},
   "source": [
    "Read in another dataset, which also contains information about Gender and the kind of product that is given.\n"
   ]
  },
  {
   "cell_type": "code",
   "execution_count": 45,
   "id": "24344487-6013-42c6-9f8f-1b75617e31c3",
   "metadata": {},
   "outputs": [
    {
     "data": {
      "text/html": [
       "<div>\n",
       "<style scoped>\n",
       "    .dataframe tbody tr th:only-of-type {\n",
       "        vertical-align: middle;\n",
       "    }\n",
       "\n",
       "    .dataframe tbody tr th {\n",
       "        vertical-align: top;\n",
       "    }\n",
       "\n",
       "    .dataframe thead th {\n",
       "        text-align: right;\n",
       "    }\n",
       "</style>\n",
       "<table border=\"1\" class=\"dataframe\">\n",
       "  <thead>\n",
       "    <tr style=\"text-align: right;\">\n",
       "      <th></th>\n",
       "      <th>Gender</th>\n",
       "      <th>Type</th>\n",
       "      <th>Username</th>\n",
       "      <th>Likes</th>\n",
       "      <th>Size</th>\n",
       "      <th>Style</th>\n",
       "      <th>Price(€)</th>\n",
       "      <th>URL</th>\n",
       "      <th>Member Adress</th>\n",
       "    </tr>\n",
       "  </thead>\n",
       "  <tbody>\n",
       "    <tr>\n",
       "      <th>0</th>\n",
       "      <td>female</td>\n",
       "      <td>turnschuhe</td>\n",
       "      <td>snupmueller</td>\n",
       "      <td>20</td>\n",
       "      <td>42</td>\n",
       "      <td>Nike</td>\n",
       "      <td>129.00</td>\n",
       "      <td>https://www.vinted.de/herren/schuhe/sportschuh...</td>\n",
       "      <td>https://www.vinted.de/member/44328704-snupmueller</td>\n",
       "    </tr>\n",
       "    <tr>\n",
       "      <th>1</th>\n",
       "      <td>female</td>\n",
       "      <td>turnschuhe</td>\n",
       "      <td>tr2011</td>\n",
       "      <td>1</td>\n",
       "      <td>42</td>\n",
       "      <td>Adidas</td>\n",
       "      <td>450.00</td>\n",
       "      <td>https://www.vinted.de/herren/schuhe/sportschuh...</td>\n",
       "      <td>https://www.vinted.de/member/53487353-tr2011</td>\n",
       "    </tr>\n",
       "    <tr>\n",
       "      <th>2</th>\n",
       "      <td>female</td>\n",
       "      <td>turnschuhe</td>\n",
       "      <td>meljess88</td>\n",
       "      <td>26</td>\n",
       "      <td>37</td>\n",
       "      <td>Adidas</td>\n",
       "      <td>25.00</td>\n",
       "      <td>https://www.vinted.de/damen/schuhe/turnschuhe/...</td>\n",
       "      <td>https://www.vinted.de/member/44898204-meljess88</td>\n",
       "    </tr>\n",
       "    <tr>\n",
       "      <th>3</th>\n",
       "      <td>female</td>\n",
       "      <td>turnschuhe</td>\n",
       "      <td>bubumaster3</td>\n",
       "      <td>0</td>\n",
       "      <td>42</td>\n",
       "      <td>Nike</td>\n",
       "      <td>215.00</td>\n",
       "      <td>https://www.vinted.de/herren/schuhe/sportschuh...</td>\n",
       "      <td>https://www.vinted.de/member/44005622-bubumaster3</td>\n",
       "    </tr>\n",
       "    <tr>\n",
       "      <th>4</th>\n",
       "      <td>female</td>\n",
       "      <td>turnschuhe</td>\n",
       "      <td>hellen_xx</td>\n",
       "      <td>2</td>\n",
       "      <td>42</td>\n",
       "      <td>Nike</td>\n",
       "      <td>150.00</td>\n",
       "      <td>https://www.vinted.de/herren/schuhe/sportschuh...</td>\n",
       "      <td>https://www.vinted.de/member/47475227-hellenxx</td>\n",
       "    </tr>\n",
       "  </tbody>\n",
       "</table>\n",
       "</div>"
      ],
      "text/plain": [
       "   Gender        Type     Username  Likes Size   Style Price(€)  \\\n",
       "0  female  turnschuhe  snupmueller     20   42    Nike  129.00    \n",
       "1  female  turnschuhe       tr2011      1   42  Adidas  450.00    \n",
       "2  female  turnschuhe    meljess88     26   37  Adidas   25.00    \n",
       "3  female  turnschuhe  bubumaster3      0   42    Nike  215.00    \n",
       "4  female  turnschuhe    hellen_xx      2   42    Nike  150.00    \n",
       "\n",
       "                                                 URL  \\\n",
       "0  https://www.vinted.de/herren/schuhe/sportschuh...   \n",
       "1  https://www.vinted.de/herren/schuhe/sportschuh...   \n",
       "2  https://www.vinted.de/damen/schuhe/turnschuhe/...   \n",
       "3  https://www.vinted.de/herren/schuhe/sportschuh...   \n",
       "4  https://www.vinted.de/herren/schuhe/sportschuh...   \n",
       "\n",
       "                                       Member Adress  \n",
       "0  https://www.vinted.de/member/44328704-snupmueller  \n",
       "1       https://www.vinted.de/member/53487353-tr2011  \n",
       "2    https://www.vinted.de/member/44898204-meljess88  \n",
       "3  https://www.vinted.de/member/44005622-bubumaster3  \n",
       "4     https://www.vinted.de/member/47475227-hellenxx  "
      ]
     },
     "execution_count": 45,
     "metadata": {},
     "output_type": "execute_result"
    }
   ],
   "source": [
    "data = pd.read_csv('data/hallo.csv')\n",
    "\n",
    "data = data.rename(columns={'female':'Gender', 'turnschuhe':'Type', 'akecheta1966': 'Username', '1': 'Likes', '42': 'Size', 'Adidas':  'Style', '29,00 €': 'Price(€)', 'https://www.vinted.de/herren/schuhe/sportschuhe/andere-sportschuhe/1249982847-adidas-stan-smith': 'URL', 'https://www.vinted.de/member/61465264-akecheta1966': 'Member Adress'})\n",
    "\n",
    "data = data.replace('\\€','',regex=True)\n",
    "data = data.replace('\\,','.',regex=True)\n",
    "\n",
    "data.head()\n"
   ]
  },
  {
   "cell_type": "markdown",
   "id": "035e9ded-fbf3-4eb4-91d3-a8064c28b931",
   "metadata": {},
   "source": [
    "We will split the dataset by gender:"
   ]
  },
  {
   "cell_type": "code",
   "execution_count": 56,
   "id": "5441d939-effb-452c-a35e-8c6fb4268e74",
   "metadata": {},
   "outputs": [
    {
     "data": {
      "text/html": [
       "<div>\n",
       "<style scoped>\n",
       "    .dataframe tbody tr th:only-of-type {\n",
       "        vertical-align: middle;\n",
       "    }\n",
       "\n",
       "    .dataframe tbody tr th {\n",
       "        vertical-align: top;\n",
       "    }\n",
       "\n",
       "    .dataframe thead th {\n",
       "        text-align: right;\n",
       "    }\n",
       "</style>\n",
       "<table border=\"1\" class=\"dataframe\">\n",
       "  <thead>\n",
       "    <tr style=\"text-align: right;\">\n",
       "      <th></th>\n",
       "      <th>Gender</th>\n",
       "      <th>Type</th>\n",
       "      <th>Username</th>\n",
       "      <th>Likes</th>\n",
       "      <th>Size</th>\n",
       "      <th>Style</th>\n",
       "      <th>Price(€)</th>\n",
       "      <th>URL</th>\n",
       "      <th>Member Adress</th>\n",
       "    </tr>\n",
       "  </thead>\n",
       "  <tbody>\n",
       "    <tr>\n",
       "      <th>23</th>\n",
       "      <td>male</td>\n",
       "      <td>sportschuhe</td>\n",
       "      <td>fundayy</td>\n",
       "      <td>2</td>\n",
       "      <td>37</td>\n",
       "      <td>Nike</td>\n",
       "      <td>20.00</td>\n",
       "      <td>https://www.vinted.de/damen/schuhe/turnschuhe/...</td>\n",
       "      <td>https://www.vinted.de/member/59856215-fundayy</td>\n",
       "    </tr>\n",
       "    <tr>\n",
       "      <th>24</th>\n",
       "      <td>male</td>\n",
       "      <td>sportschuhe</td>\n",
       "      <td>jonasrbo</td>\n",
       "      <td>7</td>\n",
       "      <td>36</td>\n",
       "      <td>Nike</td>\n",
       "      <td>450.00</td>\n",
       "      <td>https://www.vinted.de/damen/schuhe/turnschuhe/...</td>\n",
       "      <td>https://www.vinted.de/member/45816972-jonasrbo</td>\n",
       "    </tr>\n",
       "    <tr>\n",
       "      <th>25</th>\n",
       "      <td>male</td>\n",
       "      <td>sportschuhe</td>\n",
       "      <td>irem1810</td>\n",
       "      <td>1</td>\n",
       "      <td>36</td>\n",
       "      <td>Nike</td>\n",
       "      <td>6.00</td>\n",
       "      <td>https://www.vinted.de/damen/schuhe/turnschuhe/...</td>\n",
       "      <td>https://www.vinted.de/member/58764149-irem1810</td>\n",
       "    </tr>\n",
       "    <tr>\n",
       "      <th>26</th>\n",
       "      <td>male</td>\n",
       "      <td>sportschuhe</td>\n",
       "      <td>jonathan71715</td>\n",
       "      <td>0</td>\n",
       "      <td>42</td>\n",
       "      <td>Adidas</td>\n",
       "      <td>45.00</td>\n",
       "      <td>https://www.vinted.de/herren/schuhe/sportschuh...</td>\n",
       "      <td>https://www.vinted.de/member/64598409-jonathan...</td>\n",
       "    </tr>\n",
       "    <tr>\n",
       "      <th>27</th>\n",
       "      <td>male</td>\n",
       "      <td>sportschuhe</td>\n",
       "      <td>xaurus</td>\n",
       "      <td>1</td>\n",
       "      <td>42</td>\n",
       "      <td>Nike</td>\n",
       "      <td>65.00</td>\n",
       "      <td>https://www.vinted.de/herren/schuhe/sportschuh...</td>\n",
       "      <td>https://www.vinted.de/member/43671223-xaurus</td>\n",
       "    </tr>\n",
       "  </tbody>\n",
       "</table>\n",
       "</div>"
      ],
      "text/plain": [
       "   Gender         Type       Username  Likes Size   Style Price(€)  \\\n",
       "23   male  sportschuhe        fundayy      2   37    Nike   20.00    \n",
       "24   male  sportschuhe       jonasrbo      7   36    Nike  450.00    \n",
       "25   male  sportschuhe       irem1810      1   36    Nike    6.00    \n",
       "26   male  sportschuhe  jonathan71715      0   42  Adidas   45.00    \n",
       "27   male  sportschuhe         xaurus      1   42    Nike   65.00    \n",
       "\n",
       "                                                  URL  \\\n",
       "23  https://www.vinted.de/damen/schuhe/turnschuhe/...   \n",
       "24  https://www.vinted.de/damen/schuhe/turnschuhe/...   \n",
       "25  https://www.vinted.de/damen/schuhe/turnschuhe/...   \n",
       "26  https://www.vinted.de/herren/schuhe/sportschuh...   \n",
       "27  https://www.vinted.de/herren/schuhe/sportschuh...   \n",
       "\n",
       "                                        Member Adress  \n",
       "23      https://www.vinted.de/member/59856215-fundayy  \n",
       "24     https://www.vinted.de/member/45816972-jonasrbo  \n",
       "25     https://www.vinted.de/member/58764149-irem1810  \n",
       "26  https://www.vinted.de/member/64598409-jonathan...  \n",
       "27       https://www.vinted.de/member/43671223-xaurus  "
      ]
     },
     "execution_count": 56,
     "metadata": {},
     "output_type": "execute_result"
    }
   ],
   "source": [
    "dataMale = data[data['Gender'] == 'male']\n",
    "dataFemale = data[data['Gender'] == 'female']\n",
    "\n",
    "dataMale.head()\n"
   ]
  },
  {
   "cell_type": "markdown",
   "id": "0fa75aaa-1b9f-4226-877e-082af80fc56a",
   "metadata": {},
   "source": [
    "Since we wanted to investigate differences in the results of the VintedStore,  we will focus first on the difference between the kind of article and the price."
   ]
  },
  {
   "cell_type": "code",
   "execution_count": 62,
   "id": "03bb65d7-6992-4a61-9060-796cc1a983fe",
   "metadata": {},
   "outputs": [
    {
     "data": {
      "image/png": "[encoded data removed]",
      "text/plain": [
       "<Figure size 432x288 with 2 Axes>"
      ]
     },
     "metadata": {
      "needs_background": "light"
     },
     "output_type": "display_data"
    }
   ],
   "source": [
    "\n",
    "\n",
    "fig, axes = plt.subplots(nrows=2, ncols=1, sharex=True)\n",
    "\n",
    "axes[0].scatter(dataMale['Type'], dataMale['Price(€)'])\n",
    "\n",
    "\n",
    "axes[1].scatter(dataFemale['Type'], dataFemale['Price(€)'])\n",
    "\n",
    "\n",
    "axes[0].set(title=\"Male\")\n",
    "axes[1].set(title=\"Female\")\n",
    "\n",
    "plt.show()"
   ]
  },
  {
   "cell_type": "markdown",
   "id": "1258c533-80e9-4db5-8653-e5b899729e3a",
   "metadata": {},
   "source": [
    "Secondly the differences of the brand/style and the price will be shown."
   ]
  },
  {
   "cell_type": "code",
   "execution_count": 63,
   "id": "416e7408-1514-4d71-ab9a-59f064e28c36",
   "metadata": {},
   "outputs": [
    {
     "data": {
      "image/png": "[encoded data removed]",
      "text/plain": [
       "<Figure size 432x288 with 2 Axes>"
      ]
     },
     "metadata": {
      "needs_background": "light"
     },
     "output_type": "display_data"
    }
   ],
   "source": [
    "fig, axes = plt.subplots(nrows=2, ncols=1, sharex=True)\n",
    "\n",
    "axes[0].scatter(dataMale['Style'], dataMale['Price(€)'])\n",
    "\n",
    "\n",
    "axes[1].scatter(dataFemale['Style'], dataFemale['Price(€)'])\n",
    "\n",
    "\n",
    "axes[0].set(title=\"Male\")\n",
    "axes[1].set(title=\"Female\")\n",
    "\n",
    "plt.show()"
   ]
  },
  {
   "cell_type": "code",
   "execution_count": 64,
   "id": "26181e5c-ec75-453d-95a4-213510567f79",
   "metadata": {},
   "outputs": [
    {
     "ename": "SyntaxError",
     "evalue": "invalid syntax (<ipython-input-64-f69d7e059220>, line 1)",
     "output_type": "error",
     "traceback": [
      "\u001b[0;36m  File \u001b[0;32m\"<ipython-input-64-f69d7e059220>\"\u001b[0;36m, line \u001b[0;32m1\u001b[0m\n\u001b[0;31m    python run.py --mode scrapper --config \"config.yaml\" --max_page 12 --ds_name \"test\"\u001b[0m\n\u001b[0m             ^\u001b[0m\n\u001b[0;31mSyntaxError\u001b[0m\u001b[0;31m:\u001b[0m invalid syntax\n"
     ]
    }
   ],
   "source": [
    "python run.py --mode scrapper --config \"config.yaml\" --max_page 12 --ds_name \"test\""
   ]
  },
  {
   "cell_type": "code",
   "execution_count": null,
   "id": "5d8036fe-1df1-45ef-9815-5fd0621b37c2",
   "metadata": {},
   "outputs": [],
   "source": []
  }
 ],
 "metadata": {
  "kernelspec": {
   "display_name": "Python 3",
   "language": "python",
   "name": "python3"
  },
  "language_info": {
   "codemirror_mode": {
    "name": "ipython",
    "version": 3
   },
   "file_extension": ".py",
   "mimetype": "text/x-python",
   "name": "python",
   "nbconvert_exporter": "python",
   "pygments_lexer": "ipython3",
   "version": "3.7.10"
  }
 },
 "nbformat": 4,
 "nbformat_minor": 5
}
